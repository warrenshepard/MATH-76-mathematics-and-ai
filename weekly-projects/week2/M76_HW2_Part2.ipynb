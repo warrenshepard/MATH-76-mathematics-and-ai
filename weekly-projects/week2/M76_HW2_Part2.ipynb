{
  "cells": [
    {
      "cell_type": "markdown",
      "source": [
        "Homework 2 Part 2 (due 7/07/2024)\n",
        "Authors: Sri Korandla, Warren Shepard, Tushar Agarwal\n",
        "Credit: pgmpy documentation: https://pgmpy.org\n",
        "Date: 05 July 2024"
      ],
      "metadata": {
        "id": "l7xzcKJHy24s"
      },
      "id": "l7xzcKJHy24s"
    },
    {
      "cell_type": "markdown",
      "id": "08469748-4a10-4631-9842-16f74f16fd7f",
      "metadata": {
        "id": "08469748-4a10-4631-9842-16f74f16fd7f"
      },
      "source": [
        "# Health-care assistance via probabilistic graphical modeling\n",
        "\n",
        "### Objective\n",
        "In this project, you will create a health-care assistance bot that can suggest diagnoses for a set of symptoms based on a probabilistic graphical model.\n",
        "\n",
        "### Step 1: Review\n",
        "Review the code from the Bayesian networks exercise.\n",
        "\n",
        "### Step 2: Acquire data\n",
        "View this [research article](https://www.nature.com/articles/ncomms5212) and download its supplementary data sets 1, 2 and 3. These data sets include the occurrences of diseases, symptoms, and their co-occurrences in the scientific literature. (For the purpose of this exercise, we are going to assume that the frequency of co-occurrences of diseases and symptoms in scientific papers is proportional to the co-occurence frequencies of actual disease cases and symptoms.)\n",
        "\n",
        "### Step 3: Create a Bayesian network\n",
        "Using commands from the `pgmpy` library, create a Bayesian network in which the probability of exhibiting a symptom is conditional on the probability of having an associated disease.\n",
        "\n",
        "\n",
        "\n",
        "\n"
      ]
    },
    {
      "cell_type": "code",
      "source": [
        "# imports\n",
        "!pip install pgmpy\n",
        "import pandas as pd\n",
        "from pgmpy.models import BayesianNetwork\n",
        "from pgmpy.factors.discrete import TabularCPD\n",
        "from pgmpy.inference import VariableElimination"
      ],
      "metadata": {
        "id": "W331CvzLc7P4",
        "colab": {
          "base_uri": "https://localhost:8080/"
        },
        "outputId": "30b8dd40-97c1-45dd-f51f-bb5daf3a09d9"
      },
      "id": "W331CvzLc7P4",
      "execution_count": 1,
      "outputs": [
        {
          "output_type": "stream",
          "name": "stdout",
          "text": [
            "Collecting pgmpy\n",
            "  Downloading pgmpy-0.1.25-py3-none-any.whl (2.0 MB)\n",
            "\u001b[?25l     \u001b[90m━━━━━━━━━━━━━━━━━━━━━━━━━━━━━━━━━━━━━━━━\u001b[0m \u001b[32m0.0/2.0 MB\u001b[0m \u001b[31m?\u001b[0m eta \u001b[36m-:--:--\u001b[0m\r\u001b[2K     \u001b[91m━━\u001b[0m\u001b[91m╸\u001b[0m\u001b[90m━━━━━━━━━━━━━━━━━━━━━━━━━━━━━━━━━━━━━\u001b[0m \u001b[32m0.1/2.0 MB\u001b[0m \u001b[31m3.8 MB/s\u001b[0m eta \u001b[36m0:00:01\u001b[0m\r\u001b[2K     \u001b[91m━━━━━━━━━━━━━━━━━━━━\u001b[0m\u001b[91m╸\u001b[0m\u001b[90m━━━━━━━━━━━━━━━━━━━\u001b[0m \u001b[32m1.0/2.0 MB\u001b[0m \u001b[31m14.7 MB/s\u001b[0m eta \u001b[36m0:00:01\u001b[0m\r\u001b[2K     \u001b[90m━━━━━━━━━━━━━━━━━━━━━━━━━━━━━━━━━━━━━━━━\u001b[0m \u001b[32m2.0/2.0 MB\u001b[0m \u001b[31m19.9 MB/s\u001b[0m eta \u001b[36m0:00:00\u001b[0m\n",
            "\u001b[?25hRequirement already satisfied: networkx in /usr/local/lib/python3.10/dist-packages (from pgmpy) (3.3)\n",
            "Requirement already satisfied: numpy in /usr/local/lib/python3.10/dist-packages (from pgmpy) (1.25.2)\n",
            "Requirement already satisfied: scipy in /usr/local/lib/python3.10/dist-packages (from pgmpy) (1.11.4)\n",
            "Requirement already satisfied: scikit-learn in /usr/local/lib/python3.10/dist-packages (from pgmpy) (1.2.2)\n",
            "Requirement already satisfied: pandas in /usr/local/lib/python3.10/dist-packages (from pgmpy) (2.0.3)\n",
            "Requirement already satisfied: pyparsing in /usr/local/lib/python3.10/dist-packages (from pgmpy) (3.1.2)\n",
            "Requirement already satisfied: torch in /usr/local/lib/python3.10/dist-packages (from pgmpy) (2.3.0+cu121)\n",
            "Requirement already satisfied: statsmodels in /usr/local/lib/python3.10/dist-packages (from pgmpy) (0.14.2)\n",
            "Requirement already satisfied: tqdm in /usr/local/lib/python3.10/dist-packages (from pgmpy) (4.66.4)\n",
            "Requirement already satisfied: joblib in /usr/local/lib/python3.10/dist-packages (from pgmpy) (1.4.2)\n",
            "Requirement already satisfied: opt-einsum in /usr/local/lib/python3.10/dist-packages (from pgmpy) (3.3.0)\n",
            "Requirement already satisfied: python-dateutil>=2.8.2 in /usr/local/lib/python3.10/dist-packages (from pandas->pgmpy) (2.8.2)\n",
            "Requirement already satisfied: pytz>=2020.1 in /usr/local/lib/python3.10/dist-packages (from pandas->pgmpy) (2023.4)\n",
            "Requirement already satisfied: tzdata>=2022.1 in /usr/local/lib/python3.10/dist-packages (from pandas->pgmpy) (2024.1)\n",
            "Requirement already satisfied: threadpoolctl>=2.0.0 in /usr/local/lib/python3.10/dist-packages (from scikit-learn->pgmpy) (3.5.0)\n",
            "Requirement already satisfied: patsy>=0.5.6 in /usr/local/lib/python3.10/dist-packages (from statsmodels->pgmpy) (0.5.6)\n",
            "Requirement already satisfied: packaging>=21.3 in /usr/local/lib/python3.10/dist-packages (from statsmodels->pgmpy) (24.1)\n",
            "Requirement already satisfied: filelock in /usr/local/lib/python3.10/dist-packages (from torch->pgmpy) (3.15.4)\n",
            "Requirement already satisfied: typing-extensions>=4.8.0 in /usr/local/lib/python3.10/dist-packages (from torch->pgmpy) (4.12.2)\n",
            "Requirement already satisfied: sympy in /usr/local/lib/python3.10/dist-packages (from torch->pgmpy) (1.13.0)\n",
            "Requirement already satisfied: jinja2 in /usr/local/lib/python3.10/dist-packages (from torch->pgmpy) (3.1.4)\n",
            "Requirement already satisfied: fsspec in /usr/local/lib/python3.10/dist-packages (from torch->pgmpy) (2023.6.0)\n",
            "Collecting nvidia-cuda-nvrtc-cu12==12.1.105 (from torch->pgmpy)\n",
            "  Using cached nvidia_cuda_nvrtc_cu12-12.1.105-py3-none-manylinux1_x86_64.whl (23.7 MB)\n",
            "Collecting nvidia-cuda-runtime-cu12==12.1.105 (from torch->pgmpy)\n",
            "  Using cached nvidia_cuda_runtime_cu12-12.1.105-py3-none-manylinux1_x86_64.whl (823 kB)\n",
            "Collecting nvidia-cuda-cupti-cu12==12.1.105 (from torch->pgmpy)\n",
            "  Using cached nvidia_cuda_cupti_cu12-12.1.105-py3-none-manylinux1_x86_64.whl (14.1 MB)\n",
            "Collecting nvidia-cudnn-cu12==8.9.2.26 (from torch->pgmpy)\n",
            "  Using cached nvidia_cudnn_cu12-8.9.2.26-py3-none-manylinux1_x86_64.whl (731.7 MB)\n",
            "Collecting nvidia-cublas-cu12==12.1.3.1 (from torch->pgmpy)\n",
            "  Using cached nvidia_cublas_cu12-12.1.3.1-py3-none-manylinux1_x86_64.whl (410.6 MB)\n",
            "Collecting nvidia-cufft-cu12==11.0.2.54 (from torch->pgmpy)\n",
            "  Using cached nvidia_cufft_cu12-11.0.2.54-py3-none-manylinux1_x86_64.whl (121.6 MB)\n",
            "Collecting nvidia-curand-cu12==10.3.2.106 (from torch->pgmpy)\n",
            "  Using cached nvidia_curand_cu12-10.3.2.106-py3-none-manylinux1_x86_64.whl (56.5 MB)\n",
            "Collecting nvidia-cusolver-cu12==11.4.5.107 (from torch->pgmpy)\n",
            "  Using cached nvidia_cusolver_cu12-11.4.5.107-py3-none-manylinux1_x86_64.whl (124.2 MB)\n",
            "Collecting nvidia-cusparse-cu12==12.1.0.106 (from torch->pgmpy)\n",
            "  Using cached nvidia_cusparse_cu12-12.1.0.106-py3-none-manylinux1_x86_64.whl (196.0 MB)\n",
            "Collecting nvidia-nccl-cu12==2.20.5 (from torch->pgmpy)\n",
            "  Using cached nvidia_nccl_cu12-2.20.5-py3-none-manylinux2014_x86_64.whl (176.2 MB)\n",
            "Collecting nvidia-nvtx-cu12==12.1.105 (from torch->pgmpy)\n",
            "  Using cached nvidia_nvtx_cu12-12.1.105-py3-none-manylinux1_x86_64.whl (99 kB)\n",
            "Requirement already satisfied: triton==2.3.0 in /usr/local/lib/python3.10/dist-packages (from torch->pgmpy) (2.3.0)\n",
            "Collecting nvidia-nvjitlink-cu12 (from nvidia-cusolver-cu12==11.4.5.107->torch->pgmpy)\n",
            "  Downloading nvidia_nvjitlink_cu12-12.5.82-py3-none-manylinux2014_x86_64.whl (21.3 MB)\n",
            "\u001b[2K     \u001b[90m━━━━━━━━━━━━━━━━━━━━━━━━━━━━━━━━━━━━━━━━\u001b[0m \u001b[32m21.3/21.3 MB\u001b[0m \u001b[31m88.9 MB/s\u001b[0m eta \u001b[36m0:00:00\u001b[0m\n",
            "\u001b[?25hRequirement already satisfied: six in /usr/local/lib/python3.10/dist-packages (from patsy>=0.5.6->statsmodels->pgmpy) (1.16.0)\n",
            "Requirement already satisfied: MarkupSafe>=2.0 in /usr/local/lib/python3.10/dist-packages (from jinja2->torch->pgmpy) (2.1.5)\n",
            "Requirement already satisfied: mpmath<1.4,>=1.1.0 in /usr/local/lib/python3.10/dist-packages (from sympy->torch->pgmpy) (1.3.0)\n",
            "Installing collected packages: nvidia-nvtx-cu12, nvidia-nvjitlink-cu12, nvidia-nccl-cu12, nvidia-curand-cu12, nvidia-cufft-cu12, nvidia-cuda-runtime-cu12, nvidia-cuda-nvrtc-cu12, nvidia-cuda-cupti-cu12, nvidia-cublas-cu12, nvidia-cusparse-cu12, nvidia-cudnn-cu12, nvidia-cusolver-cu12, pgmpy\n",
            "Successfully installed nvidia-cublas-cu12-12.1.3.1 nvidia-cuda-cupti-cu12-12.1.105 nvidia-cuda-nvrtc-cu12-12.1.105 nvidia-cuda-runtime-cu12-12.1.105 nvidia-cudnn-cu12-8.9.2.26 nvidia-cufft-cu12-11.0.2.54 nvidia-curand-cu12-10.3.2.106 nvidia-cusolver-cu12-11.4.5.107 nvidia-cusparse-cu12-12.1.0.106 nvidia-nccl-cu12-2.20.5 nvidia-nvjitlink-cu12-12.5.82 nvidia-nvtx-cu12-12.1.105 pgmpy-0.1.25\n"
          ]
        }
      ]
    },
    {
      "cell_type": "markdown",
      "source": [
        "IMPORTAND: it is assumed that the files are called `diseases.txt`, `symptoms.txt`, and `cooccurences.txt`"
      ],
      "metadata": {
        "id": "SsPX-wQwznxx"
      },
      "id": "SsPX-wQwznxx"
    },
    {
      "cell_type": "code",
      "execution_count": 2,
      "id": "38e7f11e-ec71-4e73-bbca-b02b632c0850",
      "metadata": {
        "colab": {
          "base_uri": "https://localhost:8080/"
        },
        "id": "38e7f11e-ec71-4e73-bbca-b02b632c0850",
        "outputId": "856657d6-b17e-4dc9-b99c-4da394867190"
      },
      "outputs": [
        {
          "output_type": "stream",
          "name": "stdout",
          "text": [
            "                      Disease  Occurrences\n",
            "1                Hypertension         8758\n",
            "2     Coronary Artery Disease         8603\n",
            "4       Myocardial Infarction         6216\n",
            "6            Coronary Disease         7066\n",
            "7                      Asthma         2448\n",
            "...                       ...          ...\n",
            "2286         Fetal Macrosomia          581\n",
            "2302                Athetosis          569\n",
            "2345              Presbycusis          543\n",
            "2382              Tinea Pedis          518\n",
            "2400       Dyslexia, Acquired          509\n",
            "\n",
            "[243 rows x 2 columns]\n",
            "                           Symptom  Occurrences\n",
            "0                      Body Weight        21119\n",
            "1                             Pain        57615\n",
            "2                          Obesity        68836\n",
            "3                           Anoxia         3115\n",
            "4               Mental Retardation        22278\n",
            "..                             ...          ...\n",
            "199                    Presbycusis          543\n",
            "200                       Myotonia          605\n",
            "208                  Gastroparesis          669\n",
            "212  Auditory Perceptual Disorders          649\n",
            "215             Dyslexia, Acquired          509\n",
            "\n",
            "[170 rows x 2 columns]\n",
            "                             Symptom                       Disease  Number  \\\n",
            "668                            Fever          Bacterial Infections     651   \n",
            "2420                           Fever                   Neutropenia    1236   \n",
            "5952                     Body Weight       Kidney Failure, Chronic     636   \n",
            "6173                     Body Weight                  Hypertension    3054   \n",
            "6404                     Body Weight             Diabetes Mellitus    1100   \n",
            "...                              ...                           ...     ...   \n",
            "146799          Urinary Incontinence          Urinary Incontinence    6671   \n",
            "147196  Urinary Incontinence, Stress          Urinary Incontinence     634   \n",
            "147197  Urinary Incontinence, Stress  Urinary Incontinence, Stress    2649   \n",
            "147894                     Hirsutism                     Hirsutism    1740   \n",
            "147895                     Hirsutism                Hypertrichosis    1753   \n",
            "\n",
            "               TFIDF  \n",
            "668       402.928399  \n",
            "2420      765.006914  \n",
            "5952      218.140271  \n",
            "6173     1047.484885  \n",
            "6404      377.286632  \n",
            "...              ...  \n",
            "146799  10790.538238  \n",
            "147196   1776.579563  \n",
            "147197   7422.964138  \n",
            "147894   4321.676692  \n",
            "147895   4353.965081  \n",
            "\n",
            "[298 rows x 4 columns]\n"
          ]
        }
      ],
      "source": [
        "# STEP 2\n",
        "# Load in Data, separate by tab between symptom, disease, and occurences, and omit first line\n",
        "diseases_df = pd.read_csv('diseases.txt', sep='\\t', header=None, names=['Disease', 'Occurrences'], skiprows=1)\n",
        "symptoms_df = pd.read_csv('symptoms.txt', sep='\\t', header=None, names=['Symptom', 'Occurrences'], skiprows=1, on_bad_lines='skip')\n",
        "cooccurrences_df = pd.read_csv('cooccurences.txt', sep='\\t', header=None, names=['Symptom', 'Disease', 'Number', 'TFIDF'], skiprows=1, on_bad_lines='skip')\n",
        "\n",
        "# Filter cooccurrences with at least 500 occurrences (did 500 becuase 300 took tool)\n",
        "cooccurrences_df = cooccurrences_df[cooccurrences_df['Number'] >= 500]\n",
        "\n",
        "# Calculate the sum of occurrences for diseases and symptoms\n",
        "disease_occurrences = cooccurrences_df.groupby('Disease')['Number'].sum().reset_index()\n",
        "symptom_occurrences = cooccurrences_df.groupby('Symptom')['Number'].sum().reset_index()\n",
        "\n",
        "# Update the occurrences in the diseases_df\n",
        "disease_occurrences_dict = dict(zip(disease_occurrences['Disease'], disease_occurrences['Number']))\n",
        "diseases_df['Occurrences'] = diseases_df['Disease'].map(disease_occurrences_dict).fillna(0).astype(int)\n",
        "\n",
        "# Update the occurrences in the symptoms_df\n",
        "symptom_occurrences_dict = dict(zip(symptom_occurrences['Symptom'], symptom_occurrences['Number']))\n",
        "symptoms_df['Occurrences'] = symptoms_df['Symptom'].map(symptom_occurrences_dict).fillna(0).astype(int)\n",
        "\n",
        "# Remove rows with no occurrences\n",
        "diseases_df = diseases_df[diseases_df['Occurrences'] > 0]\n",
        "symptoms_df = symptoms_df[symptoms_df['Occurrences'] > 0]\n",
        "\n",
        "# symptoms_in_cooccurrences = cooccurrences_df['Symptom'].unique()\n",
        "# symptoms_in_symptoms_df = symptoms_df['Symptom'].unique()\n",
        "# symptoms_not_in_symptoms_df = set(symptoms_in_cooccurrences) - set(symptoms_in_symptoms_df)\n",
        "\n",
        "\n",
        "print(diseases_df)\n",
        "print(symptoms_df)\n",
        "print(cooccurrences_df)\n"
      ]
    },
    {
      "cell_type": "code",
      "source": [
        "# STEP 3\n",
        "# create ModeL, create list of diseases + symptoms, and add edge if coocurrence\n",
        "model = BayesianNetwork()\n",
        "\n",
        "# add lables for diseases vs somptoms becuase there are many duplicates\n",
        "diseases_df['Disease'] = 'D_' + diseases_df['Disease']\n",
        "symptoms_df['Symptom'] = 'S_' + symptoms_df['Symptom']\n",
        "cooccurrences_df['Disease'] = 'D_' + cooccurrences_df['Disease']\n",
        "cooccurrences_df['Symptom'] = 'S_' + cooccurrences_df['Symptom']\n",
        "\n",
        "diseases = diseases_df['Disease'].tolist()\n",
        "symptoms = symptoms_df['Symptom'].tolist()\n",
        "\n",
        "# adding edges between co-occuring diseases and symptoms\n",
        "for index, row in cooccurrences_df.iterrows():\n",
        "  disease = row['Disease']\n",
        "  symptom = row['Symptom']\n",
        "\n",
        "  # add disease and symptom to network if needed\n",
        "  if not model.has_node(disease):\n",
        "    model.add_node(disease)\n",
        "  if not model.has_node(symptom):\n",
        "    model.add_node(symptom)\n",
        "\n",
        "  model.add_edge(disease, symptom)\n",
        "\n",
        "print(model.edges())\n",
        "print(model.nodes())\n"
      ],
      "metadata": {
        "id": "cniDQXAmd_ll",
        "colab": {
          "base_uri": "https://localhost:8080/"
        },
        "outputId": "f078fd22-6e41-4b7b-d977-b8154a75258d"
      },
      "id": "cniDQXAmd_ll",
      "execution_count": 3,
      "outputs": [
        {
          "output_type": "stream",
          "name": "stdout",
          "text": [
            "[('D_Bacterial Infections', 'S_Fever'), ('D_Neutropenia', 'S_Fever'), ('D_Kidney Failure, Chronic', 'S_Body Weight'), ('D_Kidney Failure, Chronic', 'S_Proteinuria'), ('D_Hypertension', 'S_Body Weight'), ('D_Hypertension', 'S_Obesity'), ('D_Hypertension', 'S_Angina Pectoris'), ('D_Hypertension', 'S_Proteinuria'), ('D_Hypertension', 'S_Albuminuria'), ('D_Diabetes Mellitus', 'S_Body Weight'), ('D_Diabetes Mellitus', 'S_Obesity'), ('D_Diabetes Mellitus, Experimental', 'S_Body Weight'), ('D_Diabetes Mellitus, Type 1', 'S_Body Weight'), ('D_Diabetes Mellitus, Type 1', 'S_Albuminuria'), ('D_Diabetes Mellitus, Type 2', 'S_Body Weight'), ('D_Diabetes Mellitus, Type 2', 'S_Weight Loss'), ('D_Diabetes Mellitus, Type 2', 'S_Obesity'), ('D_Diabetes Mellitus, Type 2', 'S_Albuminuria'), ('D_Nutrition Disorders', 'S_Body Weight'), ('D_Protein-Energy Malnutrition', 'S_Body Weight'), ('D_Obesity', 'S_Body Weight'), ('D_Obesity', 'S_Weight Gain'), ('D_Obesity', 'S_Weight Loss'), ('D_Obesity', 'S_Overweight'), ('D_Obesity', 'S_Obesity'), ('D_Obesity', 'S_Thinness'), ('D_Eating Disorders', 'S_Body Weight'), ('D_Eating Disorders', 'S_Hyperphagia'), ('D_Anorexia Nervosa', 'S_Body Weight'), ('D_Anorexia Nervosa', 'S_Bulimia'), ('D_Growth Disorders', 'S_Body Weight'), ('D_Pregnancy Complications', 'S_Birth Weight'), ('D_Fetal Growth Retardation', 'S_Birth Weight'), ('D_Pregnancy in Diabetics', 'S_Birth Weight'), ('D_Infant, Newborn, Diseases', 'S_Birth Weight'), ('D_Fetal Macrosomia', 'S_Fetal Macrosomia'), ('D_Obesity, Morbid', 'S_Weight Loss'), ('D_Obesity, Morbid', 'S_Obesity, Morbid'), ('D_Polycystic Ovary Syndrome', 'S_Obesity'), ('D_Fatty Liver', 'S_Obesity'), ('D_Coronary Disease', 'S_Obesity'), ('D_Coronary Disease', 'S_Chest Pain'), ('D_Coronary Disease', 'S_Angina Pectoris'), ('D_Coronary Disease', 'S_Angina, Unstable'), ('D_Coronary Artery Disease', 'S_Obesity'), ('D_Coronary Artery Disease', 'S_Chest Pain'), ('D_Coronary Artery Disease', 'S_Angina Pectoris'), ('D_Coronary Artery Disease', 'S_Angina, Unstable'), ('D_Hyperinsulinism', 'S_Obesity'), ('D_Metabolic Syndrome X', 'S_Obesity'), ('D_Hyperlipidemias', 'S_Obesity'), ('D_Inflammation', 'S_Obesity'), ('D_Inflammation', 'S_Edema'), ('D_Inflammation', 'S_Pain'), ('D_Cardiac Output, Low', 'S_Cardiac Output, Low'), ('D_Heart Defects, Congenital', 'S_Cyanosis'), ('D_Hydrops Fetalis', 'S_Hydrops Fetalis'), ('D_Hypergammaglobulinemia', 'S_Hypergammaglobulinemia'), ('D_Arterial Occlusive Diseases', 'S_Intermittent Claudication'), ('D_Intermittent Claudication', 'S_Intermittent Claudication'), ('D_Cerebrospinal Fluid Rhinorrhea', 'S_Cerebrospinal Fluid Rhinorrhea'), ('D_Decerebrate State', 'S_Decerebrate State'), ('D_Dyskinesias', 'S_Dyskinesias'), ('D_Ataxia', 'S_Ataxia'), ('D_Cerebellar Ataxia', 'S_Cerebellar Ataxia'), ('D_Athetosis', 'S_Athetosis'), ('D_Catalepsy', 'S_Catalepsy'), ('D_Chorea', 'S_Chorea'), ('D_Dystonic Disorders', 'S_Dystonia'), ('D_Dystonia', 'S_Dystonia'), ('D_Torticollis', 'S_Torticollis'), ('D_Hyperkinesis', 'S_Hyperkinesis'), ('D_Myoclonus', 'S_Myoclonus'), ('D_Dementia', 'S_Psychomotor Agitation'), ('D_Dementia', 'S_Memory Disorders'), ('D_Psychomotor Agitation', 'S_Psychomotor Agitation'), ('D_Parkinson Disease', 'S_Tremor'), ('D_Tremor', 'S_Tremor'), ('D_Gait Disorders, Neurologic', 'S_Gait Disorders, Neurologic'), ('D_Apraxias', 'S_Apraxias'), ('D_Catatonia', 'S_Catatonia'), ('D_Communication Disorders', 'S_Communication Disorders'), ('D_Language Disorders', 'S_Language Disorders'), ('D_Dyslexia', 'S_Dyslexia'), ('D_Dyslexia, Acquired', 'S_Dyslexia, Acquired'), ('D_Language Development Disorders', 'S_Language Development Disorders'), ('D_Speech Disorders', 'S_Speech Disorders'), ('D_Aphasia', 'S_Aphasia'), ('D_Aphasia', 'S_Aphasia, Broca'), ('D_Aphasia, Broca', 'S_Aphasia, Broca'), ('D_Articulation Disorders', 'S_Articulation Disorders'), ('D_Dysarthria', 'S_Dysarthria'), ('D_Stuttering', 'S_Stuttering'), ('D_Learning Disorders', 'S_Learning Disorders'), ('D_Attention Deficit Disorder with Hyperactivity', 'S_Learning Disorders'), ('D_Child Behavior Disorders', 'S_Learning Disorders'), ('D_Confusion', 'S_Confusion'), ('D_Delirium', 'S_Delirium'), ('D_Consciousness Disorders', 'S_Consciousness Disorders'), ('D_Unconsciousness', 'S_Unconsciousness'), ('D_Brain Injuries', 'S_Coma'), ('D_Coma', 'S_Coma'), ('D_Persistent Vegetative State', 'S_Persistent Vegetative State'), ('D_Syncope', 'S_Syncope'), ('D_Arrhythmias, Cardiac', 'S_Syncope'), ('D_Syncope, Vasovagal', 'S_Syncope, Vasovagal'), ('D_Alzheimer Disease', 'S_Memory Disorders'), ('D_Memory Disorders', 'S_Memory Disorders'), ('D_Cognition Disorders', 'S_Memory Disorders'), ('D_Schizophrenia', 'S_Memory Disorders'), ('D_Schizophrenia', 'S_Hallucinations'), ('D_Amnesia', 'S_Amnesia'), ('D_Epilepsy', 'S_Mental Retardation'), ('D_Epilepsy', 'S_Seizures'), ('D_Mental Retardation', 'S_Mental Retardation'), ('D_Abnormalities, Multiple', 'S_Mental Retardation'), ('D_Autistic Disorder', 'S_Mental Retardation'), ('D_Developmental Disabilities', 'S_Mental Retardation'), ('D_Chromosome Aberrations', 'S_Mental Retardation'), ('D_Perceptual Disorders', 'S_Perceptual Disorders'), ('D_Agnosia', 'S_Agnosia'), ('D_Auditory Perceptual Disorders', 'S_Auditory Perceptual Disorders'), ('D_Hallucinations', 'S_Hallucinations'), ('D_Psychotic Disorders', 'S_Hallucinations'), ('D_Phantom Limb', 'S_Phantom Limb'), ('D_Psychomotor Disorders', 'S_Psychomotor Disorders'), ('D_Muscle Cramp', 'S_Muscle Cramp'), ('D_Muscle Rigidity', 'S_Muscle Rigidity'), ('D_Muscle Spasticity', 'S_Muscle Spasticity'), ('D_Cerebral Palsy', 'S_Muscle Spasticity'), ('D_Muscle Hypotonia', 'S_Muscle Hypotonia'), ('D_Muscle Weakness', 'S_Muscle Weakness'), ('D_Muscle Weakness', 'S_Paresis'), ('D_Cerebral Infarction', 'S_Muscle Weakness'), ('D_Cerebral Infarction', 'S_Hemiplegia'), ('D_Cerebral Infarction', 'S_Paresis'), ('D_Stroke', 'S_Muscle Weakness'), ('D_Stroke', 'S_Paresis'), ('D_Paresis', 'S_Muscle Weakness'), ('D_Paresis', 'S_Paresis'), ('D_Muscular Atrophy', 'S_Muscular Atrophy'), ('D_Myotonia', 'S_Myotonia'), ('D_Spasm', 'S_Spasm'), ('D_Tetany', 'S_Tetany'), ('D_Bone Neoplasms', 'S_Pain'), ('D_Joint Diseases', 'S_Pain'), ('D_Arthritis, Rheumatoid', 'S_Pain'), ('D_Osteoarthritis', 'S_Pain'), ('D_Osteoarthritis, Knee', 'S_Pain'), ('D_Muscular Diseases', 'S_Pain'), ('D_Fibromyalgia', 'S_Pain'), ('D_Pain', 'S_Pain'), ('D_Pain', 'S_Hyperalgesia'), ('D_Pain', 'S_Pain, Postoperative'), ('D_Hyperalgesia', 'S_Pain'), ('D_Hyperalgesia', 'S_Hyperalgesia'), ('D_Peripheral Nervous System Diseases', 'S_Pain'), ('D_Anemia, Sickle Cell', 'S_Pain'), ('D_Spinal Diseases', 'S_Back Pain'), ('D_Back Pain', 'S_Back Pain'), ('D_Low Back Pain', 'S_Low Back Pain'), ('D_Temporomandibular Joint Disorders', 'S_Facial Pain'), ('D_Facial Pain', 'S_Facial Pain'), ('D_Migraine Disorders', 'S_Headache'), ('D_Headache', 'S_Headache'), ('D_Neck Pain', 'S_Neck Pain'), ('D_Herpes Zoster', 'S_Neuralgia'), ('D_Neuralgia', 'S_Neuralgia'), ('D_Intervertebral Disk Displacement', 'S_Sciatica'), ('D_Sciatica', 'S_Sciatica'), ('D_Pain, Intractable', 'S_Pain, Intractable'), ('D_Paralysis', 'S_Paralysis'), ('D_Facial Paralysis', 'S_Facial Paralysis'), ('D_Gastroparesis', 'S_Gastroparesis'), ('D_Cerebrovascular Disorders', 'S_Hemiplegia'), ('D_Hemiplegia', 'S_Hemiplegia'), ('D_Ophthalmoplegia', 'S_Ophthalmoplegia'), ('D_Supranuclear Palsy, Progressive', 'S_Supranuclear Palsy, Progressive'), ('D_Spinal Cord Injuries', 'S_Paraplegia'), ('D_Spinal Cord Injuries', 'S_Quadriplegia'), ('D_Spinal Cord Injuries', 'S_Urinary Bladder, Neurogenic'), ('D_Paraplegia', 'S_Paraplegia'), ('D_Quadriplegia', 'S_Quadriplegia'), ('D_Respiratory Paralysis', 'S_Respiratory Paralysis'), ('D_Vocal Cord Paralysis', 'S_Vocal Cord Paralysis'), ('D_Somatoform Disorders', 'S_Psychophysiologic Disorders'), ('D_Horner Syndrome', 'S_Horner Syndrome'), ('D_Reflex, Abnormal', 'S_Reflex, Abnormal'), ('D_Brain Diseases', 'S_Seizures'), ('D_Seizures', 'S_Seizures'), ('D_Sensation Disorders', 'S_Sensation Disorders'), ('D_Meniere Disease', 'S_Dizziness'), ('D_Vertigo', 'S_Dizziness'), ('D_Vertigo', 'S_Vertigo'), ('D_Dizziness', 'S_Dizziness'), ('D_Dizziness', 'S_Vertigo'), ('D_Hearing Disorders', 'S_Hearing Disorders'), ('D_Hearing Loss', 'S_Hearing Loss'), ('D_Deafness', 'S_Deafness'), ('D_Hearing Loss, Bilateral', 'S_Hearing Loss, Bilateral'), ('D_Hearing Loss, Conductive', 'S_Hearing Loss, Conductive'), ('D_Hearing Loss, Sensorineural', 'S_Hearing Loss, Sensorineural'), ('D_Hearing Loss, Noise-Induced', 'S_Hearing Loss, Noise-Induced'), ('D_Presbycusis', 'S_Presbycusis'), ('D_Hearing Loss, Sudden', 'S_Hearing Loss, Sudden'), ('D_Tinnitus', 'S_Tinnitus'), ('D_Olfaction Disorders', 'S_Olfaction Disorders'), ('D_Hypesthesia', 'S_Hypesthesia'), ('D_Paresthesia', 'S_Paresthesia'), ('D_Taste Disorders', 'S_Taste Disorders'), ('D_Optic Nerve Diseases', 'S_Vision Disorders'), ('D_Vision Disorders', 'S_Vision Disorders'), ('D_Glaucoma', 'S_Vision Disorders'), ('D_Glaucoma, Open-Angle', 'S_Vision Disorders'), ('D_Amblyopia', 'S_Amblyopia'), ('D_Strabismus', 'S_Amblyopia'), ('D_Blindness', 'S_Blindness'), ('D_Color Vision Defects', 'S_Color Vision Defects'), ('D_Diplopia', 'S_Diplopia'), ('D_Hemianopsia', 'S_Hemianopsia'), ('D_Scotoma', 'S_Scotoma'), ('D_Vision, Low', 'S_Vision, Low'), ('D_Sleep Disorders', 'S_Sleep Disorders'), ('D_Sleep Deprivation', 'S_Sleep Deprivation'), ('D_Urinary Bladder, Neurogenic', 'S_Urinary Bladder, Neurogenic'), ('D_Voice Disorders', 'S_Voice Disorders'), ('D_Oral Hemorrhage', 'S_Oral Hemorrhage'), ('D_Kidney Diseases', 'S_Colic'), ('D_Kidney Diseases', 'S_Proteinuria'), ('D_Kidney Diseases', 'S_Albuminuria'), ('D_Arthralgia', 'S_Arthralgia'), ('D_Shoulder Pain', 'S_Shoulder Pain'), ('D_Myocardial Ischemia', 'S_Chest Pain'), ('D_Myocardial Ischemia', 'S_Angina Pectoris'), ('D_Myocardial Ischemia', 'S_Angina, Unstable'), ('D_Myocardial Infarction', 'S_Chest Pain'), ('D_Myocardial Infarction', 'S_Angina Pectoris'), ('D_Myocardial Infarction', 'S_Angina, Unstable'), ('D_Angina Pectoris', 'S_Angina Pectoris'), ('D_Angina Pectoris', 'S_Angina, Unstable'), ('D_Angina, Unstable', 'S_Angina Pectoris'), ('D_Angina, Unstable', 'S_Angina, Unstable'), ('D_Acute Coronary Syndrome', 'S_Acute Coronary Syndrome'), ('D_Angina Pectoris, Variant', 'S_Angina Pectoris, Variant'), ('D_Toothache', 'S_Toothache'), ('D_Pain, Postoperative', 'S_Pain, Postoperative'), ('D_Dysmenorrhea', 'S_Dysmenorrhea'), ('D_Escherichia coli Infections', 'S_Diarrhea'), ('D_Enterocolitis, Pseudomembranous', 'S_Diarrhea'), ('D_Rotavirus Infections', 'S_Diarrhea'), ('D_Gastroenteritis', 'S_Diarrhea'), ('D_Colitis', 'S_Diarrhea'), ('D_Helicobacter Infections', 'S_Dyspepsia'), ('D_Gastroesophageal Reflux', 'S_Heartburn'), ('D_Hematemesis', 'S_Hematemesis'), ('D_Hyperemesis Gravidarum', 'S_Hyperemesis Gravidarum'), ('D_Hypertension, Pulmonary', 'S_Anoxia'), ('D_Lung Diseases, Obstructive', 'S_Anoxia'), ('D_Altitude Sickness', 'S_Anoxia'), ('D_Respiratory Insufficiency', 'S_Anoxia'), ('D_Fetal Hypoxia', 'S_Fetal Hypoxia'), ('D_Apnea', 'S_Apnea'), ('D_Asthma', 'S_Cough'), ('D_Asthma', 'S_Dyspnea'), ('D_Asthma', 'S_Respiratory Sounds'), ('D_Cough', 'S_Cough'), ('D_Pulmonary Disease, Chronic Obstructive', 'S_Dyspnea'), ('D_Dyspnea', 'S_Dyspnea'), ('D_Heart Failure', 'S_Dyspnea'), ('D_Hemoptysis', 'S_Hemoptysis'), ('D_Hyperventilation', 'S_Hyperventilation'), ('D_Hypoventilation', 'S_Hypoventilation'), ('D_Sleep Apnea Syndromes', 'S_Snoring'), ('D_Sleep Apnea, Obstructive', 'S_Snoring'), ('D_Jaundice', 'S_Jaundice'), ('D_Jaundice, Obstructive', 'S_Jaundice, Obstructive'), ('D_Pruritus', 'S_Pruritus'), ('D_Tinea Pedis', 'S_Tinea Pedis'), ('D_Purpura', 'S_Purpura'), ('D_Purpura, Schoenlein-Henoch', 'S_Purpura, Schoenlein-Henoch'), ('D_Purpura, Thrombocytopenic', 'S_Purpura, Thrombocytopenic'), ('D_Purpura, Thrombocytopenic, Idiopathic', 'S_Purpura, Thrombocytopenic, Idiopathic'), ('D_Purpura, Thrombotic Thrombocytopenic', 'S_Purpura, Thrombotic Thrombocytopenic'), ('D_Polyuria', 'S_Polyuria'), ('D_Diabetic Nephropathies', 'S_Proteinuria'), ('D_Diabetic Nephropathies', 'S_Albuminuria'), ('D_Glomerulonephritis', 'S_Proteinuria'), ('D_Glomerulonephritis, IGA', 'S_Proteinuria'), ('D_Nephrotic Syndrome', 'S_Proteinuria'), ('D_Proteinuria', 'S_Proteinuria'), ('D_Proteinuria', 'S_Albuminuria'), ('D_Albuminuria', 'S_Albuminuria'), ('D_Urinary Bladder, Overactive', 'S_Urinary Bladder, Overactive'), ('D_Urinary Incontinence', 'S_Urinary Incontinence'), ('D_Urinary Incontinence', 'S_Urinary Incontinence, Stress'), ('D_Urinary Incontinence, Stress', 'S_Urinary Incontinence, Stress'), ('D_Hirsutism', 'S_Hirsutism'), ('D_Hypertrichosis', 'S_Hirsutism')]\n",
            "['D_Bacterial Infections', 'S_Fever', 'D_Neutropenia', 'D_Kidney Failure, Chronic', 'S_Body Weight', 'D_Hypertension', 'D_Diabetes Mellitus', 'D_Diabetes Mellitus, Experimental', 'D_Diabetes Mellitus, Type 1', 'D_Diabetes Mellitus, Type 2', 'D_Nutrition Disorders', 'D_Protein-Energy Malnutrition', 'D_Obesity', 'D_Eating Disorders', 'D_Anorexia Nervosa', 'D_Growth Disorders', 'D_Pregnancy Complications', 'S_Birth Weight', 'D_Fetal Growth Retardation', 'D_Pregnancy in Diabetics', 'D_Infant, Newborn, Diseases', 'D_Fetal Macrosomia', 'S_Fetal Macrosomia', 'S_Weight Gain', 'S_Weight Loss', 'D_Obesity, Morbid', 'S_Overweight', 'D_Polycystic Ovary Syndrome', 'S_Obesity', 'D_Fatty Liver', 'D_Coronary Disease', 'D_Coronary Artery Disease', 'D_Hyperinsulinism', 'D_Metabolic Syndrome X', 'D_Hyperlipidemias', 'D_Inflammation', 'S_Obesity, Morbid', 'S_Thinness', 'D_Cardiac Output, Low', 'S_Cardiac Output, Low', 'D_Heart Defects, Congenital', 'S_Cyanosis', 'S_Edema', 'D_Hydrops Fetalis', 'S_Hydrops Fetalis', 'D_Hypergammaglobulinemia', 'S_Hypergammaglobulinemia', 'D_Arterial Occlusive Diseases', 'S_Intermittent Claudication', 'D_Intermittent Claudication', 'D_Cerebrospinal Fluid Rhinorrhea', 'S_Cerebrospinal Fluid Rhinorrhea', 'D_Decerebrate State', 'S_Decerebrate State', 'D_Dyskinesias', 'S_Dyskinesias', 'D_Ataxia', 'S_Ataxia', 'D_Cerebellar Ataxia', 'S_Cerebellar Ataxia', 'D_Athetosis', 'S_Athetosis', 'D_Catalepsy', 'S_Catalepsy', 'D_Chorea', 'S_Chorea', 'D_Dystonic Disorders', 'S_Dystonia', 'D_Dystonia', 'D_Torticollis', 'S_Torticollis', 'D_Hyperkinesis', 'S_Hyperkinesis', 'D_Myoclonus', 'S_Myoclonus', 'D_Dementia', 'S_Psychomotor Agitation', 'D_Psychomotor Agitation', 'D_Parkinson Disease', 'S_Tremor', 'D_Tremor', 'D_Gait Disorders, Neurologic', 'S_Gait Disorders, Neurologic', 'D_Apraxias', 'S_Apraxias', 'D_Catatonia', 'S_Catatonia', 'D_Communication Disorders', 'S_Communication Disorders', 'D_Language Disorders', 'S_Language Disorders', 'D_Dyslexia', 'S_Dyslexia', 'D_Dyslexia, Acquired', 'S_Dyslexia, Acquired', 'D_Language Development Disorders', 'S_Language Development Disorders', 'D_Speech Disorders', 'S_Speech Disorders', 'D_Aphasia', 'S_Aphasia', 'S_Aphasia, Broca', 'D_Aphasia, Broca', 'D_Articulation Disorders', 'S_Articulation Disorders', 'D_Dysarthria', 'S_Dysarthria', 'D_Stuttering', 'S_Stuttering', 'D_Learning Disorders', 'S_Learning Disorders', 'D_Attention Deficit Disorder with Hyperactivity', 'D_Child Behavior Disorders', 'D_Confusion', 'S_Confusion', 'D_Delirium', 'S_Delirium', 'D_Consciousness Disorders', 'S_Consciousness Disorders', 'D_Unconsciousness', 'S_Unconsciousness', 'D_Brain Injuries', 'S_Coma', 'D_Coma', 'D_Persistent Vegetative State', 'S_Persistent Vegetative State', 'D_Syncope', 'S_Syncope', 'D_Arrhythmias, Cardiac', 'D_Syncope, Vasovagal', 'S_Syncope, Vasovagal', 'S_Memory Disorders', 'D_Alzheimer Disease', 'D_Memory Disorders', 'D_Cognition Disorders', 'D_Schizophrenia', 'D_Amnesia', 'S_Amnesia', 'D_Epilepsy', 'S_Mental Retardation', 'D_Mental Retardation', 'D_Abnormalities, Multiple', 'D_Autistic Disorder', 'D_Developmental Disabilities', 'D_Chromosome Aberrations', 'D_Perceptual Disorders', 'S_Perceptual Disorders', 'D_Agnosia', 'S_Agnosia', 'D_Auditory Perceptual Disorders', 'S_Auditory Perceptual Disorders', 'D_Hallucinations', 'S_Hallucinations', 'D_Psychotic Disorders', 'D_Phantom Limb', 'S_Phantom Limb', 'D_Psychomotor Disorders', 'S_Psychomotor Disorders', 'D_Muscle Cramp', 'S_Muscle Cramp', 'D_Muscle Rigidity', 'S_Muscle Rigidity', 'D_Muscle Spasticity', 'S_Muscle Spasticity', 'D_Cerebral Palsy', 'D_Muscle Hypotonia', 'S_Muscle Hypotonia', 'D_Muscle Weakness', 'S_Muscle Weakness', 'D_Cerebral Infarction', 'D_Stroke', 'D_Paresis', 'D_Muscular Atrophy', 'S_Muscular Atrophy', 'D_Myotonia', 'S_Myotonia', 'D_Spasm', 'S_Spasm', 'D_Tetany', 'S_Tetany', 'D_Bone Neoplasms', 'S_Pain', 'D_Joint Diseases', 'D_Arthritis, Rheumatoid', 'D_Osteoarthritis', 'D_Osteoarthritis, Knee', 'D_Muscular Diseases', 'D_Fibromyalgia', 'D_Pain', 'D_Hyperalgesia', 'D_Peripheral Nervous System Diseases', 'D_Anemia, Sickle Cell', 'D_Spinal Diseases', 'S_Back Pain', 'D_Back Pain', 'D_Low Back Pain', 'S_Low Back Pain', 'D_Temporomandibular Joint Disorders', 'S_Facial Pain', 'D_Facial Pain', 'D_Migraine Disorders', 'S_Headache', 'D_Headache', 'D_Neck Pain', 'S_Neck Pain', 'D_Herpes Zoster', 'S_Neuralgia', 'D_Neuralgia', 'D_Intervertebral Disk Displacement', 'S_Sciatica', 'D_Sciatica', 'D_Pain, Intractable', 'S_Pain, Intractable', 'D_Paralysis', 'S_Paralysis', 'D_Facial Paralysis', 'S_Facial Paralysis', 'D_Gastroparesis', 'S_Gastroparesis', 'D_Cerebrovascular Disorders', 'S_Hemiplegia', 'D_Hemiplegia', 'D_Ophthalmoplegia', 'S_Ophthalmoplegia', 'D_Supranuclear Palsy, Progressive', 'S_Supranuclear Palsy, Progressive', 'D_Spinal Cord Injuries', 'S_Paraplegia', 'D_Paraplegia', 'S_Quadriplegia', 'D_Quadriplegia', 'D_Respiratory Paralysis', 'S_Respiratory Paralysis', 'D_Vocal Cord Paralysis', 'S_Vocal Cord Paralysis', 'S_Paresis', 'D_Somatoform Disorders', 'S_Psychophysiologic Disorders', 'D_Horner Syndrome', 'S_Horner Syndrome', 'D_Reflex, Abnormal', 'S_Reflex, Abnormal', 'D_Brain Diseases', 'S_Seizures', 'D_Seizures', 'D_Sensation Disorders', 'S_Sensation Disorders', 'D_Meniere Disease', 'S_Dizziness', 'D_Vertigo', 'D_Dizziness', 'D_Hearing Disorders', 'S_Hearing Disorders', 'D_Hearing Loss', 'S_Hearing Loss', 'D_Deafness', 'S_Deafness', 'D_Hearing Loss, Bilateral', 'S_Hearing Loss, Bilateral', 'D_Hearing Loss, Conductive', 'S_Hearing Loss, Conductive', 'D_Hearing Loss, Sensorineural', 'S_Hearing Loss, Sensorineural', 'D_Hearing Loss, Noise-Induced', 'S_Hearing Loss, Noise-Induced', 'D_Presbycusis', 'S_Presbycusis', 'D_Hearing Loss, Sudden', 'S_Hearing Loss, Sudden', 'D_Tinnitus', 'S_Tinnitus', 'D_Olfaction Disorders', 'S_Olfaction Disorders', 'S_Hyperalgesia', 'D_Hypesthesia', 'S_Hypesthesia', 'D_Paresthesia', 'S_Paresthesia', 'D_Taste Disorders', 'S_Taste Disorders', 'D_Optic Nerve Diseases', 'S_Vision Disorders', 'D_Vision Disorders', 'D_Glaucoma', 'D_Glaucoma, Open-Angle', 'D_Amblyopia', 'S_Amblyopia', 'D_Strabismus', 'D_Blindness', 'S_Blindness', 'D_Color Vision Defects', 'S_Color Vision Defects', 'D_Diplopia', 'S_Diplopia', 'D_Hemianopsia', 'S_Hemianopsia', 'D_Scotoma', 'S_Scotoma', 'D_Vision, Low', 'S_Vision, Low', 'D_Sleep Disorders', 'S_Sleep Disorders', 'D_Sleep Deprivation', 'S_Sleep Deprivation', 'S_Urinary Bladder, Neurogenic', 'D_Urinary Bladder, Neurogenic', 'S_Vertigo', 'D_Voice Disorders', 'S_Voice Disorders', 'D_Oral Hemorrhage', 'S_Oral Hemorrhage', 'D_Kidney Diseases', 'S_Colic', 'D_Arthralgia', 'S_Arthralgia', 'D_Shoulder Pain', 'S_Shoulder Pain', 'D_Myocardial Ischemia', 'S_Chest Pain', 'D_Myocardial Infarction', 'S_Angina Pectoris', 'D_Angina Pectoris', 'D_Angina, Unstable', 'D_Acute Coronary Syndrome', 'S_Acute Coronary Syndrome', 'S_Angina, Unstable', 'D_Angina Pectoris, Variant', 'S_Angina Pectoris, Variant', 'D_Toothache', 'S_Toothache', 'S_Pain, Postoperative', 'D_Pain, Postoperative', 'D_Dysmenorrhea', 'S_Dysmenorrhea', 'D_Escherichia coli Infections', 'S_Diarrhea', 'D_Enterocolitis, Pseudomembranous', 'D_Rotavirus Infections', 'D_Gastroenteritis', 'D_Colitis', 'D_Helicobacter Infections', 'S_Dyspepsia', 'D_Gastroesophageal Reflux', 'S_Heartburn', 'S_Hyperphagia', 'S_Bulimia', 'D_Hematemesis', 'S_Hematemesis', 'D_Hyperemesis Gravidarum', 'S_Hyperemesis Gravidarum', 'D_Hypertension, Pulmonary', 'S_Anoxia', 'D_Lung Diseases, Obstructive', 'D_Altitude Sickness', 'D_Respiratory Insufficiency', 'D_Fetal Hypoxia', 'S_Fetal Hypoxia', 'D_Apnea', 'S_Apnea', 'D_Asthma', 'S_Cough', 'D_Cough', 'S_Dyspnea', 'D_Pulmonary Disease, Chronic Obstructive', 'D_Dyspnea', 'D_Heart Failure', 'D_Hemoptysis', 'S_Hemoptysis', 'D_Hyperventilation', 'S_Hyperventilation', 'D_Hypoventilation', 'S_Hypoventilation', 'S_Respiratory Sounds', 'D_Sleep Apnea Syndromes', 'S_Snoring', 'D_Sleep Apnea, Obstructive', 'D_Jaundice', 'S_Jaundice', 'D_Jaundice, Obstructive', 'S_Jaundice, Obstructive', 'D_Pruritus', 'S_Pruritus', 'D_Tinea Pedis', 'S_Tinea Pedis', 'D_Purpura', 'S_Purpura', 'D_Purpura, Schoenlein-Henoch', 'S_Purpura, Schoenlein-Henoch', 'D_Purpura, Thrombocytopenic', 'S_Purpura, Thrombocytopenic', 'D_Purpura, Thrombocytopenic, Idiopathic', 'S_Purpura, Thrombocytopenic, Idiopathic', 'D_Purpura, Thrombotic Thrombocytopenic', 'S_Purpura, Thrombotic Thrombocytopenic', 'D_Polyuria', 'S_Polyuria', 'S_Proteinuria', 'D_Diabetic Nephropathies', 'D_Glomerulonephritis', 'D_Glomerulonephritis, IGA', 'D_Nephrotic Syndrome', 'D_Proteinuria', 'S_Albuminuria', 'D_Albuminuria', 'D_Urinary Bladder, Overactive', 'S_Urinary Bladder, Overactive', 'D_Urinary Incontinence', 'S_Urinary Incontinence', 'S_Urinary Incontinence, Stress', 'D_Urinary Incontinence, Stress', 'D_Hirsutism', 'S_Hirsutism', 'D_Hypertrichosis']\n"
          ]
        }
      ]
    },
    {
      "cell_type": "markdown",
      "source": [
        "### Step 4: Initialize priors\n",
        "Use the disease occurrence data to assign prior probabilities for diseases."
      ],
      "metadata": {
        "id": "SPLPYiB_Y3EI"
      },
      "id": "SPLPYiB_Y3EI"
    },
    {
      "cell_type": "code",
      "source": [
        "# STEP 4\n",
        "# Initialize priors\n",
        "total_occurrences = diseases_df['Occurrences'].sum()\n",
        "\n",
        "for disease in diseases:\n",
        "    disease_occurrences = diseases_df[diseases_df['Disease'] == disease]['Occurrences'].values[0]\n",
        "    prob_disease = disease_occurrences / total_occurrences\n",
        "    cpd_disease = TabularCPD(variable=disease, variable_card=2, values=[[1 - prob_disease], [prob_disease]])\n",
        "    model.add_cpds(cpd_disease)\n",
        "\n",
        "print(total_occurrences)"
      ],
      "metadata": {
        "id": "TUJJK3ExNJ9i",
        "colab": {
          "base_uri": "https://localhost:8080/"
        },
        "outputId": "e590fd61-7f5b-43b8-9904-0e7002ce3b66"
      },
      "id": "TUJJK3ExNJ9i",
      "execution_count": 5,
      "outputs": [
        {
          "output_type": "stream",
          "name": "stderr",
          "text": [
            "WARNING:pgmpy:Replacing existing CPD for D_Hypertension\n",
            "WARNING:pgmpy:Replacing existing CPD for D_Coronary Artery Disease\n",
            "WARNING:pgmpy:Replacing existing CPD for D_Myocardial Infarction\n",
            "WARNING:pgmpy:Replacing existing CPD for D_Coronary Disease\n",
            "WARNING:pgmpy:Replacing existing CPD for D_Asthma\n",
            "WARNING:pgmpy:Replacing existing CPD for D_Dementia\n",
            "WARNING:pgmpy:Replacing existing CPD for D_Obesity\n",
            "WARNING:pgmpy:Replacing existing CPD for D_Pain\n",
            "WARNING:pgmpy:Replacing existing CPD for D_Arthritis, Rheumatoid\n",
            "WARNING:pgmpy:Replacing existing CPD for D_Schizophrenia\n",
            "WARNING:pgmpy:Replacing existing CPD for D_Diabetes Mellitus, Type 2\n",
            "WARNING:pgmpy:Replacing existing CPD for D_Heart Failure\n",
            "WARNING:pgmpy:Replacing existing CPD for D_Kidney Failure, Chronic\n",
            "WARNING:pgmpy:Replacing existing CPD for D_Alzheimer Disease\n",
            "WARNING:pgmpy:Replacing existing CPD for D_Diabetes Mellitus\n",
            "WARNING:pgmpy:Replacing existing CPD for D_Diabetes Mellitus, Type 1\n",
            "WARNING:pgmpy:Replacing existing CPD for D_Kidney Diseases\n",
            "WARNING:pgmpy:Replacing existing CPD for D_Myocardial Ischemia\n",
            "WARNING:pgmpy:Replacing existing CPD for D_Epilepsy\n",
            "WARNING:pgmpy:Replacing existing CPD for D_Cerebral Infarction\n",
            "WARNING:pgmpy:Replacing existing CPD for D_Parkinson Disease\n",
            "WARNING:pgmpy:Replacing existing CPD for D_Bacterial Infections\n",
            "WARNING:pgmpy:Replacing existing CPD for D_Arrhythmias, Cardiac\n",
            "WARNING:pgmpy:Replacing existing CPD for D_Brain Diseases\n",
            "WARNING:pgmpy:Replacing existing CPD for D_Inflammation\n",
            "WARNING:pgmpy:Replacing existing CPD for D_Pregnancy Complications\n",
            "WARNING:pgmpy:Replacing existing CPD for D_Cognition Disorders\n",
            "WARNING:pgmpy:Replacing existing CPD for D_Stroke\n",
            "WARNING:pgmpy:Replacing existing CPD for D_Bone Neoplasms\n",
            "WARNING:pgmpy:Replacing existing CPD for D_Brain Injuries\n",
            "WARNING:pgmpy:Replacing existing CPD for D_Diabetes Mellitus, Experimental\n",
            "WARNING:pgmpy:Replacing existing CPD for D_Cerebrovascular Disorders\n",
            "WARNING:pgmpy:Replacing existing CPD for D_Seizures\n",
            "WARNING:pgmpy:Replacing existing CPD for D_Abnormalities, Multiple\n",
            "WARNING:pgmpy:Replacing existing CPD for D_Mental Retardation\n",
            "WARNING:pgmpy:Replacing existing CPD for D_Helicobacter Infections\n",
            "WARNING:pgmpy:Replacing existing CPD for D_Psychotic Disorders\n",
            "WARNING:pgmpy:Replacing existing CPD for D_Heart Defects, Congenital\n",
            "WARNING:pgmpy:Replacing existing CPD for D_Spinal Cord Injuries\n",
            "WARNING:pgmpy:Replacing existing CPD for D_Angina Pectoris\n",
            "WARNING:pgmpy:Replacing existing CPD for D_Glomerulonephritis\n",
            "WARNING:pgmpy:Replacing existing CPD for D_Glaucoma\n",
            "WARNING:pgmpy:Replacing existing CPD for D_Hypertension, Pulmonary\n",
            "WARNING:pgmpy:Replacing existing CPD for D_Infant, Newborn, Diseases\n",
            "WARNING:pgmpy:Replacing existing CPD for D_Arterial Occlusive Diseases\n",
            "WARNING:pgmpy:Replacing existing CPD for D_Respiratory Insufficiency\n",
            "WARNING:pgmpy:Replacing existing CPD for D_Osteoarthritis\n",
            "WARNING:pgmpy:Replacing existing CPD for D_Migraine Disorders\n",
            "WARNING:pgmpy:Replacing existing CPD for D_Hyperlipidemias\n",
            "WARNING:pgmpy:Replacing existing CPD for D_Attention Deficit Disorder with Hyperactivity\n",
            "WARNING:pgmpy:Replacing existing CPD for D_Muscular Diseases\n",
            "WARNING:pgmpy:Replacing existing CPD for D_Peripheral Nervous System Diseases\n",
            "WARNING:pgmpy:Replacing existing CPD for D_Lung Diseases, Obstructive\n",
            "WARNING:pgmpy:Replacing existing CPD for D_Pulmonary Disease, Chronic Obstructive\n",
            "WARNING:pgmpy:Replacing existing CPD for D_Anemia, Sickle Cell\n",
            "WARNING:pgmpy:Replacing existing CPD for D_Gastroesophageal Reflux\n",
            "WARNING:pgmpy:Replacing existing CPD for D_Autistic Disorder\n",
            "WARNING:pgmpy:Replacing existing CPD for D_Pain, Postoperative\n",
            "WARNING:pgmpy:Replacing existing CPD for D_Deafness\n",
            "WARNING:pgmpy:Replacing existing CPD for D_Vision Disorders\n",
            "WARNING:pgmpy:Replacing existing CPD for D_Diabetic Nephropathies\n",
            "WARNING:pgmpy:Replacing existing CPD for D_Headache\n",
            "WARNING:pgmpy:Replacing existing CPD for D_Child Behavior Disorders\n",
            "WARNING:pgmpy:Replacing existing CPD for D_Nephrotic Syndrome\n",
            "WARNING:pgmpy:Replacing existing CPD for D_Escherichia coli Infections\n",
            "WARNING:pgmpy:Replacing existing CPD for D_Metabolic Syndrome X\n",
            "WARNING:pgmpy:Replacing existing CPD for D_Joint Diseases\n",
            "WARNING:pgmpy:Replacing existing CPD for D_Spinal Diseases\n",
            "WARNING:pgmpy:Replacing existing CPD for D_Sleep Apnea Syndromes\n",
            "WARNING:pgmpy:Replacing existing CPD for D_Fatty Liver\n",
            "WARNING:pgmpy:Replacing existing CPD for D_Chromosome Aberrations\n",
            "WARNING:pgmpy:Replacing existing CPD for D_Colitis\n",
            "WARNING:pgmpy:Replacing existing CPD for D_Memory Disorders\n",
            "WARNING:pgmpy:Replacing existing CPD for D_Growth Disorders\n",
            "WARNING:pgmpy:Replacing existing CPD for D_Hearing Loss, Sensorineural\n",
            "WARNING:pgmpy:Replacing existing CPD for D_Cerebral Palsy\n",
            "WARNING:pgmpy:Replacing existing CPD for D_Nutrition Disorders\n",
            "WARNING:pgmpy:Replacing existing CPD for D_Sleep Disorders\n",
            "WARNING:pgmpy:Replacing existing CPD for D_Anorexia Nervosa\n",
            "WARNING:pgmpy:Replacing existing CPD for D_Urinary Incontinence\n",
            "WARNING:pgmpy:Replacing existing CPD for D_Neutropenia\n",
            "WARNING:pgmpy:Replacing existing CPD for D_Low Back Pain\n",
            "WARNING:pgmpy:Replacing existing CPD for D_Polycystic Ovary Syndrome\n",
            "WARNING:pgmpy:Replacing existing CPD for D_Paralysis\n",
            "WARNING:pgmpy:Replacing existing CPD for D_Back Pain\n",
            "WARNING:pgmpy:Replacing existing CPD for D_Learning Disorders\n",
            "WARNING:pgmpy:Replacing existing CPD for D_Fetal Growth Retardation\n",
            "WARNING:pgmpy:Replacing existing CPD for D_Hearing Disorders\n",
            "WARNING:pgmpy:Replacing existing CPD for D_Intervertebral Disk Displacement\n",
            "WARNING:pgmpy:Replacing existing CPD for D_Developmental Disabilities\n",
            "WARNING:pgmpy:Replacing existing CPD for D_Temporomandibular Joint Disorders\n",
            "WARNING:pgmpy:Replacing existing CPD for D_Glaucoma, Open-Angle\n",
            "WARNING:pgmpy:Replacing existing CPD for D_Sleep Apnea, Obstructive\n",
            "WARNING:pgmpy:Replacing existing CPD for D_Blindness\n",
            "WARNING:pgmpy:Replacing existing CPD for D_Gastroenteritis\n",
            "WARNING:pgmpy:Replacing existing CPD for D_Proteinuria\n",
            "WARNING:pgmpy:Replacing existing CPD for D_Eating Disorders\n",
            "WARNING:pgmpy:Replacing existing CPD for D_Pregnancy in Diabetics\n",
            "WARNING:pgmpy:Replacing existing CPD for D_Cough\n",
            "WARNING:pgmpy:Replacing existing CPD for D_Herpes Zoster\n",
            "WARNING:pgmpy:Replacing existing CPD for D_Facial Paralysis\n",
            "WARNING:pgmpy:Replacing existing CPD for D_Strabismus\n",
            "WARNING:pgmpy:Replacing existing CPD for D_Coma\n",
            "WARNING:pgmpy:Replacing existing CPD for D_Angina, Unstable\n",
            "WARNING:pgmpy:Replacing existing CPD for D_Syncope\n",
            "WARNING:pgmpy:Replacing existing CPD for D_Dizziness\n",
            "WARNING:pgmpy:Replacing existing CPD for D_Paraplegia\n",
            "WARNING:pgmpy:Replacing existing CPD for D_Dyspnea\n",
            "WARNING:pgmpy:Replacing existing CPD for D_Ophthalmoplegia\n",
            "WARNING:pgmpy:Replacing existing CPD for D_Aphasia\n",
            "WARNING:pgmpy:Replacing existing CPD for D_Osteoarthritis, Knee\n",
            "WARNING:pgmpy:Replacing existing CPD for D_Dystonia\n",
            "WARNING:pgmpy:Replacing existing CPD for D_Speech Disorders\n",
            "WARNING:pgmpy:Replacing existing CPD for D_Somatoform Disorders\n",
            "WARNING:pgmpy:Replacing existing CPD for D_Hemiplegia\n",
            "WARNING:pgmpy:Replacing existing CPD for D_Fibromyalgia\n",
            "WARNING:pgmpy:Replacing existing CPD for D_Dyslexia\n",
            "WARNING:pgmpy:Replacing existing CPD for D_Muscular Atrophy\n",
            "WARNING:pgmpy:Replacing existing CPD for D_Hearing Loss\n",
            "WARNING:pgmpy:Replacing existing CPD for D_Neuralgia\n",
            "WARNING:pgmpy:Replacing existing CPD for D_Protein-Energy Malnutrition\n",
            "WARNING:pgmpy:Replacing existing CPD for D_Optic Nerve Diseases\n",
            "WARNING:pgmpy:Replacing existing CPD for D_Albuminuria\n",
            "WARNING:pgmpy:Replacing existing CPD for D_Vertigo\n",
            "WARNING:pgmpy:Replacing existing CPD for D_Glomerulonephritis, IGA\n",
            "WARNING:pgmpy:Replacing existing CPD for D_Jaundice\n",
            "WARNING:pgmpy:Replacing existing CPD for D_Enterocolitis, Pseudomembranous\n",
            "WARNING:pgmpy:Replacing existing CPD for D_Purpura, Thrombocytopenic\n",
            "WARNING:pgmpy:Replacing existing CPD for D_Tremor\n",
            "WARNING:pgmpy:Replacing existing CPD for D_Pain, Intractable\n",
            "WARNING:pgmpy:Replacing existing CPD for D_Pruritus\n",
            "WARNING:pgmpy:Replacing existing CPD for D_Hallucinations\n",
            "WARNING:pgmpy:Replacing existing CPD for D_Amnesia\n",
            "WARNING:pgmpy:Replacing existing CPD for D_Hyperalgesia\n",
            "WARNING:pgmpy:Replacing existing CPD for D_Amblyopia\n",
            "WARNING:pgmpy:Replacing existing CPD for D_Acute Coronary Syndrome\n",
            "WARNING:pgmpy:Replacing existing CPD for D_Obesity, Morbid\n",
            "WARNING:pgmpy:Replacing existing CPD for D_Hyperinsulinism\n",
            "WARNING:pgmpy:Replacing existing CPD for D_Language Disorders\n",
            "WARNING:pgmpy:Replacing existing CPD for D_Cardiac Output, Low\n",
            "WARNING:pgmpy:Replacing existing CPD for D_Muscle Weakness\n",
            "WARNING:pgmpy:Replacing existing CPD for D_Purpura, Thrombocytopenic, Idiopathic\n",
            "WARNING:pgmpy:Replacing existing CPD for D_Meniere Disease\n",
            "WARNING:pgmpy:Replacing existing CPD for D_Urinary Bladder, Neurogenic\n",
            "WARNING:pgmpy:Replacing existing CPD for D_Perceptual Disorders\n",
            "WARNING:pgmpy:Replacing existing CPD for D_Intermittent Claudication\n",
            "WARNING:pgmpy:Replacing existing CPD for D_Tinnitus\n",
            "WARNING:pgmpy:Replacing existing CPD for D_Myoclonus\n",
            "WARNING:pgmpy:Replacing existing CPD for D_Delirium\n",
            "WARNING:pgmpy:Replacing existing CPD for D_Urinary Incontinence, Stress\n",
            "WARNING:pgmpy:Replacing existing CPD for D_Apnea\n",
            "WARNING:pgmpy:Replacing existing CPD for D_Muscle Spasticity\n",
            "WARNING:pgmpy:Replacing existing CPD for D_Hearing Loss, Noise-Induced\n",
            "WARNING:pgmpy:Replacing existing CPD for D_Purpura, Thrombotic Thrombocytopenic\n",
            "WARNING:pgmpy:Replacing existing CPD for D_Quadriplegia\n",
            "WARNING:pgmpy:Replacing existing CPD for D_Voice Disorders\n",
            "WARNING:pgmpy:Replacing existing CPD for D_Purpura, Schoenlein-Henoch\n",
            "WARNING:pgmpy:Replacing existing CPD for D_Language Development Disorders\n",
            "WARNING:pgmpy:Replacing existing CPD for D_Hypertrichosis\n",
            "WARNING:pgmpy:Replacing existing CPD for D_Ataxia\n",
            "WARNING:pgmpy:Replacing existing CPD for D_Facial Pain\n",
            "WARNING:pgmpy:Replacing existing CPD for D_Hemoptysis\n",
            "WARNING:pgmpy:Replacing existing CPD for D_Spasm\n",
            "WARNING:pgmpy:Replacing existing CPD for D_Cerebellar Ataxia\n",
            "WARNING:pgmpy:Replacing existing CPD for D_Chorea\n",
            "WARNING:pgmpy:Replacing existing CPD for D_Vocal Cord Paralysis\n",
            "WARNING:pgmpy:Replacing existing CPD for D_Purpura\n",
            "WARNING:pgmpy:Replacing existing CPD for D_Stuttering\n",
            "WARNING:pgmpy:Replacing existing CPD for D_Sciatica\n",
            "WARNING:pgmpy:Replacing existing CPD for D_Color Vision Defects\n",
            "WARNING:pgmpy:Replacing existing CPD for D_Rotavirus Infections\n",
            "WARNING:pgmpy:Replacing existing CPD for D_Hyperventilation\n",
            "WARNING:pgmpy:Replacing existing CPD for D_Hypergammaglobulinemia\n",
            "WARNING:pgmpy:Replacing existing CPD for D_Psychomotor Disorders\n",
            "WARNING:pgmpy:Replacing existing CPD for D_Hyperkinesis\n",
            "WARNING:pgmpy:Replacing existing CPD for D_Hirsutism\n",
            "WARNING:pgmpy:Replacing existing CPD for D_Sleep Deprivation\n",
            "WARNING:pgmpy:Replacing existing CPD for D_Sensation Disorders\n",
            "WARNING:pgmpy:Replacing existing CPD for D_Neck Pain\n",
            "WARNING:pgmpy:Replacing existing CPD for D_Olfaction Disorders\n",
            "WARNING:pgmpy:Replacing existing CPD for D_Torticollis\n",
            "WARNING:pgmpy:Replacing existing CPD for D_Altitude Sickness\n",
            "WARNING:pgmpy:Replacing existing CPD for D_Paresthesia\n",
            "WARNING:pgmpy:Replacing existing CPD for D_Arthralgia\n",
            "WARNING:pgmpy:Replacing existing CPD for D_Fetal Hypoxia\n",
            "WARNING:pgmpy:Replacing existing CPD for D_Paresis\n",
            "WARNING:pgmpy:Replacing existing CPD for D_Psychomotor Agitation\n",
            "WARNING:pgmpy:Replacing existing CPD for D_Dysmenorrhea\n",
            "WARNING:pgmpy:Replacing existing CPD for D_Gait Disorders, Neurologic\n",
            "WARNING:pgmpy:Replacing existing CPD for D_Apraxias\n",
            "WARNING:pgmpy:Replacing existing CPD for D_Angina Pectoris, Variant\n",
            "WARNING:pgmpy:Replacing existing CPD for D_Urinary Bladder, Overactive\n",
            "WARNING:pgmpy:Replacing existing CPD for D_Diplopia\n",
            "WARNING:pgmpy:Replacing existing CPD for D_Confusion\n",
            "WARNING:pgmpy:Replacing existing CPD for D_Supranuclear Palsy, Progressive\n",
            "WARNING:pgmpy:Replacing existing CPD for D_Hearing Loss, Sudden\n",
            "WARNING:pgmpy:Replacing existing CPD for D_Hemianopsia\n",
            "WARNING:pgmpy:Replacing existing CPD for D_Hearing Loss, Conductive\n",
            "WARNING:pgmpy:Replacing existing CPD for D_Shoulder Pain\n",
            "WARNING:pgmpy:Replacing existing CPD for D_Agnosia\n",
            "WARNING:pgmpy:Replacing existing CPD for D_Unconsciousness\n",
            "WARNING:pgmpy:Replacing existing CPD for D_Catatonia\n",
            "WARNING:pgmpy:Replacing existing CPD for D_Hydrops Fetalis\n",
            "WARNING:pgmpy:Replacing existing CPD for D_Cerebrospinal Fluid Rhinorrhea\n",
            "WARNING:pgmpy:Replacing existing CPD for D_Syncope, Vasovagal\n",
            "WARNING:pgmpy:Replacing existing CPD for D_Jaundice, Obstructive\n",
            "WARNING:pgmpy:Replacing existing CPD for D_Horner Syndrome\n",
            "WARNING:pgmpy:Replacing existing CPD for D_Toothache\n",
            "WARNING:pgmpy:Replacing existing CPD for D_Muscle Hypotonia\n",
            "WARNING:pgmpy:Replacing existing CPD for D_Dystonic Disorders\n",
            "WARNING:pgmpy:Replacing existing CPD for D_Catalepsy\n",
            "WARNING:pgmpy:Replacing existing CPD for D_Tetany\n",
            "WARNING:pgmpy:Replacing existing CPD for D_Consciousness Disorders\n",
            "WARNING:pgmpy:Replacing existing CPD for D_Dysarthria\n",
            "WARNING:pgmpy:Replacing existing CPD for D_Respiratory Paralysis\n",
            "WARNING:pgmpy:Replacing existing CPD for D_Aphasia, Broca\n",
            "WARNING:pgmpy:Replacing existing CPD for D_Scotoma\n",
            "WARNING:pgmpy:Replacing existing CPD for D_Muscle Cramp\n",
            "WARNING:pgmpy:Replacing existing CPD for D_Articulation Disorders\n",
            "WARNING:pgmpy:Replacing existing CPD for D_Vision, Low\n",
            "WARNING:pgmpy:Replacing existing CPD for D_Hearing Loss, Bilateral\n",
            "WARNING:pgmpy:Replacing existing CPD for D_Muscle Rigidity\n",
            "WARNING:pgmpy:Replacing existing CPD for D_Hypesthesia\n",
            "WARNING:pgmpy:Replacing existing CPD for D_Hyperemesis Gravidarum\n",
            "WARNING:pgmpy:Replacing existing CPD for D_Taste Disorders\n",
            "WARNING:pgmpy:Replacing existing CPD for D_Persistent Vegetative State\n",
            "WARNING:pgmpy:Replacing existing CPD for D_Gastroparesis\n",
            "WARNING:pgmpy:Replacing existing CPD for D_Reflex, Abnormal\n",
            "WARNING:pgmpy:Replacing existing CPD for D_Decerebrate State\n",
            "WARNING:pgmpy:Replacing existing CPD for D_Auditory Perceptual Disorders\n",
            "WARNING:pgmpy:Replacing existing CPD for D_Phantom Limb\n",
            "WARNING:pgmpy:Replacing existing CPD for D_Hematemesis\n",
            "WARNING:pgmpy:Replacing existing CPD for D_Hypoventilation\n",
            "WARNING:pgmpy:Replacing existing CPD for D_Communication Disorders\n",
            "WARNING:pgmpy:Replacing existing CPD for D_Oral Hemorrhage\n",
            "WARNING:pgmpy:Replacing existing CPD for D_Myotonia\n",
            "WARNING:pgmpy:Replacing existing CPD for D_Dyskinesias\n",
            "WARNING:pgmpy:Replacing existing CPD for D_Polyuria\n",
            "WARNING:pgmpy:Replacing existing CPD for D_Fetal Macrosomia\n",
            "WARNING:pgmpy:Replacing existing CPD for D_Athetosis\n",
            "WARNING:pgmpy:Replacing existing CPD for D_Presbycusis\n",
            "WARNING:pgmpy:Replacing existing CPD for D_Tinea Pedis\n",
            "WARNING:pgmpy:Replacing existing CPD for D_Dyslexia, Acquired\n"
          ]
        },
        {
          "output_type": "stream",
          "name": "stdout",
          "text": [
            "684145\n"
          ]
        }
      ]
    },
    {
      "cell_type": "markdown",
      "source": [
        "### Step 5: Calculate conditional probability tables\n",
        "Use the co-occurrence data to define CPTs for each connected pair of disease and symptoms. (Hint: You may need to assign some occurrences of symptoms to an \"idiopathic disease\" to create valid CPTs.)"
      ],
      "metadata": {
        "id": "B7xiPT-5Yt5n"
      },
      "id": "B7xiPT-5Yt5n"
    },
    {
      "cell_type": "code",
      "source": [
        "def grabFromDF(df, value, iv_index=0, dv_index=1):\n",
        "  '''\n",
        "  From a 2-column data frame, look for the row in which the value is of\n",
        "  the first column is `value`. Return the corresponding value of the second\n",
        "  column.\n",
        "  '''\n",
        "  sub_df = (df[df[df.columns[iv_index]] == value][df.columns[dv_index]])\n",
        "  if len(sub_df):\n",
        "    return sub_df.iloc[0]\n",
        "  else:\n",
        "    return 0\n",
        "\n",
        "def grabFromDF2(df, value1, value2, iv1_index=0, iv2_index=1, dv_index=2):\n",
        "  '''\n",
        "  From a 3-column data frame, look for the row in which the value is of\n",
        "  the first column is `value1` AND the value of the second column in\n",
        "  `value2`. Return the corresponding value of the third column.\n",
        "  '''\n",
        "  # select variables\n",
        "  var1 = df.columns[iv1_index]\n",
        "  var2 = df.columns[iv2_index]\n",
        "  var3 = df.columns[dv_index]\n",
        "\n",
        "  # select sub-dataframes in which these variables have the desired values\n",
        "  sub_df = df[df[var1] == value1]\n",
        "  subsub_df = sub_df[sub_df[var2] == value2]\n",
        "\n",
        "  # return dependent variable\n",
        "  if len(subsub_df):\n",
        "    return subsub_df[var3].iloc[0]\n",
        "  else:\n",
        "    return 0\n",
        "\n",
        "def CPT2x2(disease_occ, symptom_occ, interaction_occ,\n",
        "           total_disease_occ, total_symptom_occ, total_interaction_occ):\n",
        "  '''\n",
        "  Set the 2x2 CPTs for a disease-symptom pair based on the occurrences\n",
        "  of the disease, symptom, their cooccurrences and the total occurrences\n",
        "  of disease, symptoms, and interactions in the data set.\n",
        "  '''\n",
        "\n",
        "  # probability of disease\n",
        "  p_disease = disease_occ / total_disease_occ\n",
        "  # joint probability of symptom and disease occurring\n",
        "  p_joint = interaction_occ / total_interaction_occ\n",
        "\n",
        "  # conditional probability of symptom occurrence given disease\n",
        "  pTT = (p_joint / p_disease if p_joint > 0 else 0.0)\n",
        "  # conditional probability of symptom non-occurrence given disease\n",
        "  pFT = 1 - pTT\n",
        "  # conditional probability of symptom occurrence given disease absence\n",
        "  pTF = (symptom_occ - interaction_occ) / total_symptom_occ\n",
        "  # conditional probability of symptom non-occurrence given disease absence\n",
        "  pFF = 1 - pTF\n",
        "\n",
        "  return [pFF, pTF, pFT, pTT]\n"
      ],
      "metadata": {
        "id": "tyDptInXkOkR"
      },
      "id": "tyDptInXkOkR",
      "execution_count": 6,
      "outputs": []
    },
    {
      "cell_type": "code",
      "source": [
        "import itertools\n",
        "import numpy as np"
      ],
      "metadata": {
        "id": "j7SVJm0BmbB8"
      },
      "id": "j7SVJm0BmbB8",
      "execution_count": 7,
      "outputs": []
    },
    {
      "cell_type": "code",
      "source": [
        "all_symptoms = symptoms_df['Symptom'].unique().tolist()\n",
        "\n",
        "# Define CPTs for symptom nodes\n",
        "CPTs_symptoms = []\n",
        "\n",
        "total_disease_occurrences = diseases_df['Occurrences'].sum()\n",
        "total_symptom_occurrences = symptoms_df['Occurrences'].sum()\n",
        "total_interaction_occurrences = cooccurrences_df['Number'].sum()\n",
        "\n",
        "for i0, symptom in enumerate(all_symptoms):\n",
        "    # get all parent nodes\n",
        "    parents = list(model.predecessors(symptom))\n",
        "    print(len(parents), end=' ')\n",
        "\n",
        "    # collect 2x2 CPTs for each parent\n",
        "    little_cpts = []\n",
        "\n",
        "    for disease in parents:\n",
        "        # occurrence of the selected disease\n",
        "        disease_occurrence = grabFromDF(diseases_df, disease)\n",
        "        # occurrence of the selected symptom\n",
        "        symptom_occurrence = grabFromDF(symptoms_df, symptom)\n",
        "        # occurrence of interaction\n",
        "        interaction_occurrence = grabFromDF2(cooccurrences_df, symptom, disease)\n",
        "\n",
        "        little_cpt = CPT2x2(disease_occurrence, symptom_occurrence,\n",
        "                            interaction_occurrence, total_disease_occurrences,\n",
        "                            total_symptom_occurrences, total_interaction_occurrences)\n",
        "        # add 2x2-CPT to list of 2x2-CPTs\n",
        "        little_cpts += [little_cpt]\n",
        "\n",
        "    # For the purpose of this exercise, we are going to assume that the\n",
        "    # occurrence of one disease is always independent of the occurrence of\n",
        "    # another disease (i.e., no comorbidities, naive Bayes).\n",
        "\n",
        "    rowT = [] # row of probabilities where symptom == True\n",
        "    for bool_combo in itertools.product([0,1], repeat=len(parents)):\n",
        "        cond_probs = [little_cpts[i][2+b] for i, b in enumerate(bool_combo)]\n",
        "        rowT += [np.prod(cond_probs)]\n",
        "\n",
        "    rowF = [1-val for val in rowT] # row of probs where symptom == False\n",
        "\n",
        "    cpt = TabularCPD(variable=symptom, variable_card=2, values=[rowF, rowT],\n",
        "                     evidence=parents, evidence_card=[2 for _ in parents])\n",
        "    CPTs_symptoms += [cpt]\n",
        "    model.add_cpds(cpt)\n"
      ],
      "metadata": {
        "colab": {
          "base_uri": "https://localhost:8080/"
        },
        "id": "hsBfo5sMiAnw",
        "outputId": "5e87f36b-be22-407c-fc8c-4410dd3e9d89"
      },
      "id": "hsBfo5sMiAnw",
      "execution_count": 8,
      "outputs": [
        {
          "output_type": "stream",
          "name": "stdout",
          "text": [
            "12 12 12 4 6 3 5 7 1 4 2 2 1 2 4 3 1 8 1 1 1 1 2 4 1 1 5 3 1 1 2 2 3 7 2 3 1 1 1 1 4 2 3 2 1 1 4 2 6 1 2 1 1 1 1 2 2 2 2 2 1 1 1 1 1 1 1 1 2 1 2 2 1 1 1 1 1 1 1 1 1 1 1 1 1 1 2 1 1 1 4 1 1 2 1 1 1 1 1 1 1 1 1 1 1 1 1 1 1 1 2 2 2 1 1 1 1 1 1 1 1 1 1 1 1 1 1 1 1 1 1 1 1 1 1 1 1 1 1 1 1 1 1 1 1 1 1 1 1 1 1 1 1 1 1 1 2 1 1 1 1 1 1 1 1 1 1 1 1 1 "
          ]
        }
      ]
    },
    {
      "cell_type": "code",
      "source": [
        "model.check_model()"
      ],
      "metadata": {
        "colab": {
          "base_uri": "https://localhost:8080/"
        },
        "id": "_FRuWehXkFYp",
        "outputId": "5e113766-2aec-4a0a-c1f7-208347173180"
      },
      "id": "_FRuWehXkFYp",
      "execution_count": 9,
      "outputs": [
        {
          "output_type": "execute_result",
          "data": {
            "text/plain": [
              "True"
            ]
          },
          "metadata": {},
          "execution_count": 9
        }
      ]
    },
    {
      "cell_type": "code",
      "source": [
        "# IMPORTANT: the below is just some of my testing mechanisms--can ignore!\n",
        "disease_to_symptoms = cooccurrences_df.groupby('Disease')['Symptom'].apply(list).to_dict()\n",
        "print(disease_to_symptoms)\n",
        "\n",
        "disease_with_most_symptoms = max(disease_to_symptoms, key=lambda k: len(disease_to_symptoms[k]))\n",
        "print(disease_with_most_symptoms)\n",
        "print(disease_to_symptoms[disease_with_most_symptoms])"
      ],
      "metadata": {
        "colab": {
          "base_uri": "https://localhost:8080/"
        },
        "id": "AFt1Qx-kn5wI",
        "outputId": "d5628c9a-744b-4fdb-f06a-ebd38b9fad61"
      },
      "id": "AFt1Qx-kn5wI",
      "execution_count": null,
      "outputs": [
        {
          "output_type": "stream",
          "name": "stdout",
          "text": [
            "{'D_Abnormalities, Multiple': ['S_Mental Retardation'], 'D_Acute Coronary Syndrome': ['S_Acute Coronary Syndrome'], 'D_Agnosia': ['S_Agnosia'], 'D_Albuminuria': ['S_Albuminuria'], 'D_Altitude Sickness': ['S_Anoxia'], 'D_Alzheimer Disease': ['S_Memory Disorders'], 'D_Amblyopia': ['S_Amblyopia'], 'D_Amnesia': ['S_Amnesia'], 'D_Anemia, Sickle Cell': ['S_Pain'], 'D_Angina Pectoris': ['S_Angina Pectoris', 'S_Angina, Unstable'], 'D_Angina Pectoris, Variant': ['S_Angina Pectoris, Variant'], 'D_Angina, Unstable': ['S_Angina Pectoris', 'S_Angina, Unstable'], 'D_Anorexia Nervosa': ['S_Body Weight', 'S_Bulimia'], 'D_Aphasia': ['S_Aphasia', 'S_Aphasia, Broca'], 'D_Aphasia, Broca': ['S_Aphasia, Broca'], 'D_Apnea': ['S_Apnea'], 'D_Apraxias': ['S_Apraxias'], 'D_Arrhythmias, Cardiac': ['S_Syncope'], 'D_Arterial Occlusive Diseases': ['S_Intermittent Claudication'], 'D_Arthralgia': ['S_Arthralgia'], 'D_Arthritis, Rheumatoid': ['S_Pain'], 'D_Articulation Disorders': ['S_Articulation Disorders'], 'D_Asthma': ['S_Cough', 'S_Dyspnea', 'S_Respiratory Sounds'], 'D_Ataxia': ['S_Ataxia'], 'D_Athetosis': ['S_Athetosis'], 'D_Attention Deficit Disorder with Hyperactivity': ['S_Learning Disorders'], 'D_Auditory Perceptual Disorders': ['S_Auditory Perceptual Disorders'], 'D_Autistic Disorder': ['S_Mental Retardation'], 'D_Back Pain': ['S_Back Pain'], 'D_Bacterial Infections': ['S_Fever'], 'D_Blindness': ['S_Blindness'], 'D_Bone Neoplasms': ['S_Pain'], 'D_Brain Diseases': ['S_Seizures'], 'D_Brain Injuries': ['S_Coma'], 'D_Cardiac Output, Low': ['S_Cardiac Output, Low'], 'D_Catalepsy': ['S_Catalepsy'], 'D_Catatonia': ['S_Catatonia'], 'D_Cerebellar Ataxia': ['S_Cerebellar Ataxia'], 'D_Cerebral Infarction': ['S_Muscle Weakness', 'S_Hemiplegia', 'S_Paresis'], 'D_Cerebral Palsy': ['S_Muscle Spasticity'], 'D_Cerebrospinal Fluid Rhinorrhea': ['S_Cerebrospinal Fluid Rhinorrhea'], 'D_Cerebrovascular Disorders': ['S_Hemiplegia'], 'D_Child Behavior Disorders': ['S_Learning Disorders'], 'D_Chorea': ['S_Chorea'], 'D_Chromosome Aberrations': ['S_Mental Retardation'], 'D_Cognition Disorders': ['S_Memory Disorders'], 'D_Colitis': ['S_Diarrhea'], 'D_Color Vision Defects': ['S_Color Vision Defects'], 'D_Coma': ['S_Coma'], 'D_Communication Disorders': ['S_Communication Disorders'], 'D_Confusion': ['S_Confusion'], 'D_Consciousness Disorders': ['S_Consciousness Disorders'], 'D_Coronary Artery Disease': ['S_Obesity', 'S_Chest Pain', 'S_Angina Pectoris', 'S_Angina, Unstable'], 'D_Coronary Disease': ['S_Obesity', 'S_Chest Pain', 'S_Angina Pectoris', 'S_Angina, Unstable'], 'D_Cough': ['S_Cough'], 'D_Deafness': ['S_Deafness'], 'D_Decerebrate State': ['S_Decerebrate State'], 'D_Delirium': ['S_Delirium'], 'D_Dementia': ['S_Psychomotor Agitation', 'S_Memory Disorders'], 'D_Developmental Disabilities': ['S_Mental Retardation'], 'D_Diabetes Mellitus': ['S_Body Weight', 'S_Obesity'], 'D_Diabetes Mellitus, Experimental': ['S_Body Weight'], 'D_Diabetes Mellitus, Type 1': ['S_Body Weight', 'S_Albuminuria'], 'D_Diabetes Mellitus, Type 2': ['S_Body Weight', 'S_Weight Loss', 'S_Obesity', 'S_Albuminuria'], 'D_Diabetic Nephropathies': ['S_Proteinuria', 'S_Albuminuria'], 'D_Diplopia': ['S_Diplopia'], 'D_Dizziness': ['S_Dizziness', 'S_Vertigo'], 'D_Dysarthria': ['S_Dysarthria'], 'D_Dyskinesias': ['S_Dyskinesias'], 'D_Dyslexia': ['S_Dyslexia'], 'D_Dyslexia, Acquired': ['S_Dyslexia, Acquired'], 'D_Dysmenorrhea': ['S_Dysmenorrhea'], 'D_Dyspnea': ['S_Dyspnea'], 'D_Dystonia': ['S_Dystonia'], 'D_Dystonic Disorders': ['S_Dystonia'], 'D_Eating Disorders': ['S_Body Weight', 'S_Hyperphagia'], 'D_Enterocolitis, Pseudomembranous': ['S_Diarrhea'], 'D_Epilepsy': ['S_Mental Retardation', 'S_Seizures'], 'D_Escherichia coli Infections': ['S_Diarrhea'], 'D_Facial Pain': ['S_Facial Pain'], 'D_Facial Paralysis': ['S_Facial Paralysis'], 'D_Fatty Liver': ['S_Obesity'], 'D_Fetal Growth Retardation': ['S_Birth Weight'], 'D_Fetal Hypoxia': ['S_Fetal Hypoxia'], 'D_Fetal Macrosomia': ['S_Fetal Macrosomia'], 'D_Fibromyalgia': ['S_Pain'], 'D_Gait Disorders, Neurologic': ['S_Gait Disorders, Neurologic'], 'D_Gastroenteritis': ['S_Diarrhea'], 'D_Gastroesophageal Reflux': ['S_Heartburn'], 'D_Gastroparesis': ['S_Gastroparesis'], 'D_Glaucoma': ['S_Vision Disorders'], 'D_Glaucoma, Open-Angle': ['S_Vision Disorders'], 'D_Glomerulonephritis': ['S_Proteinuria'], 'D_Glomerulonephritis, IGA': ['S_Proteinuria'], 'D_Growth Disorders': ['S_Body Weight'], 'D_Hallucinations': ['S_Hallucinations'], 'D_Headache': ['S_Headache'], 'D_Hearing Disorders': ['S_Hearing Disorders'], 'D_Hearing Loss': ['S_Hearing Loss'], 'D_Hearing Loss, Bilateral': ['S_Hearing Loss, Bilateral'], 'D_Hearing Loss, Conductive': ['S_Hearing Loss, Conductive'], 'D_Hearing Loss, Noise-Induced': ['S_Hearing Loss, Noise-Induced'], 'D_Hearing Loss, Sensorineural': ['S_Hearing Loss, Sensorineural'], 'D_Hearing Loss, Sudden': ['S_Hearing Loss, Sudden'], 'D_Heart Defects, Congenital': ['S_Cyanosis'], 'D_Heart Failure': ['S_Dyspnea'], 'D_Helicobacter Infections': ['S_Dyspepsia'], 'D_Hematemesis': ['S_Hematemesis'], 'D_Hemianopsia': ['S_Hemianopsia'], 'D_Hemiplegia': ['S_Hemiplegia'], 'D_Hemoptysis': ['S_Hemoptysis'], 'D_Herpes Zoster': ['S_Neuralgia'], 'D_Hirsutism': ['S_Hirsutism'], 'D_Horner Syndrome': ['S_Horner Syndrome'], 'D_Hydrops Fetalis': ['S_Hydrops Fetalis'], 'D_Hyperalgesia': ['S_Pain', 'S_Hyperalgesia'], 'D_Hyperemesis Gravidarum': ['S_Hyperemesis Gravidarum'], 'D_Hypergammaglobulinemia': ['S_Hypergammaglobulinemia'], 'D_Hyperinsulinism': ['S_Obesity'], 'D_Hyperkinesis': ['S_Hyperkinesis'], 'D_Hyperlipidemias': ['S_Obesity'], 'D_Hypertension': ['S_Body Weight', 'S_Obesity', 'S_Angina Pectoris', 'S_Proteinuria', 'S_Albuminuria'], 'D_Hypertension, Pulmonary': ['S_Anoxia'], 'D_Hypertrichosis': ['S_Hirsutism'], 'D_Hyperventilation': ['S_Hyperventilation'], 'D_Hypesthesia': ['S_Hypesthesia'], 'D_Hypoventilation': ['S_Hypoventilation'], 'D_Infant, Newborn, Diseases': ['S_Birth Weight'], 'D_Inflammation': ['S_Obesity', 'S_Edema', 'S_Pain'], 'D_Intermittent Claudication': ['S_Intermittent Claudication'], 'D_Intervertebral Disk Displacement': ['S_Sciatica'], 'D_Jaundice': ['S_Jaundice'], 'D_Jaundice, Obstructive': ['S_Jaundice, Obstructive'], 'D_Joint Diseases': ['S_Pain'], 'D_Kidney Diseases': ['S_Colic', 'S_Proteinuria', 'S_Albuminuria'], 'D_Kidney Failure, Chronic': ['S_Body Weight', 'S_Proteinuria'], 'D_Language Development Disorders': ['S_Language Development Disorders'], 'D_Language Disorders': ['S_Language Disorders'], 'D_Learning Disorders': ['S_Learning Disorders'], 'D_Low Back Pain': ['S_Low Back Pain'], 'D_Lung Diseases, Obstructive': ['S_Anoxia'], 'D_Memory Disorders': ['S_Memory Disorders'], 'D_Meniere Disease': ['S_Dizziness'], 'D_Mental Retardation': ['S_Mental Retardation'], 'D_Metabolic Syndrome X': ['S_Obesity'], 'D_Migraine Disorders': ['S_Headache'], 'D_Muscle Cramp': ['S_Muscle Cramp'], 'D_Muscle Hypotonia': ['S_Muscle Hypotonia'], 'D_Muscle Rigidity': ['S_Muscle Rigidity'], 'D_Muscle Spasticity': ['S_Muscle Spasticity'], 'D_Muscle Weakness': ['S_Muscle Weakness', 'S_Paresis'], 'D_Muscular Atrophy': ['S_Muscular Atrophy'], 'D_Muscular Diseases': ['S_Pain'], 'D_Myocardial Infarction': ['S_Chest Pain', 'S_Angina Pectoris', 'S_Angina, Unstable'], 'D_Myocardial Ischemia': ['S_Chest Pain', 'S_Angina Pectoris', 'S_Angina, Unstable'], 'D_Myoclonus': ['S_Myoclonus'], 'D_Myotonia': ['S_Myotonia'], 'D_Neck Pain': ['S_Neck Pain'], 'D_Nephrotic Syndrome': ['S_Proteinuria'], 'D_Neuralgia': ['S_Neuralgia'], 'D_Neutropenia': ['S_Fever'], 'D_Nutrition Disorders': ['S_Body Weight'], 'D_Obesity': ['S_Body Weight', 'S_Weight Gain', 'S_Weight Loss', 'S_Overweight', 'S_Obesity', 'S_Thinness'], 'D_Obesity, Morbid': ['S_Weight Loss', 'S_Obesity, Morbid'], 'D_Olfaction Disorders': ['S_Olfaction Disorders'], 'D_Ophthalmoplegia': ['S_Ophthalmoplegia'], 'D_Optic Nerve Diseases': ['S_Vision Disorders'], 'D_Oral Hemorrhage': ['S_Oral Hemorrhage'], 'D_Osteoarthritis': ['S_Pain'], 'D_Osteoarthritis, Knee': ['S_Pain'], 'D_Pain': ['S_Pain', 'S_Hyperalgesia', 'S_Pain, Postoperative'], 'D_Pain, Intractable': ['S_Pain, Intractable'], 'D_Pain, Postoperative': ['S_Pain, Postoperative'], 'D_Paralysis': ['S_Paralysis'], 'D_Paraplegia': ['S_Paraplegia'], 'D_Paresis': ['S_Muscle Weakness', 'S_Paresis'], 'D_Paresthesia': ['S_Paresthesia'], 'D_Parkinson Disease': ['S_Tremor'], 'D_Perceptual Disorders': ['S_Perceptual Disorders'], 'D_Peripheral Nervous System Diseases': ['S_Pain'], 'D_Persistent Vegetative State': ['S_Persistent Vegetative State'], 'D_Phantom Limb': ['S_Phantom Limb'], 'D_Polycystic Ovary Syndrome': ['S_Obesity'], 'D_Polyuria': ['S_Polyuria'], 'D_Pregnancy Complications': ['S_Birth Weight'], 'D_Pregnancy in Diabetics': ['S_Birth Weight'], 'D_Presbycusis': ['S_Presbycusis'], 'D_Protein-Energy Malnutrition': ['S_Body Weight'], 'D_Proteinuria': ['S_Proteinuria', 'S_Albuminuria'], 'D_Pruritus': ['S_Pruritus'], 'D_Psychomotor Agitation': ['S_Psychomotor Agitation'], 'D_Psychomotor Disorders': ['S_Psychomotor Disorders'], 'D_Psychotic Disorders': ['S_Hallucinations'], 'D_Pulmonary Disease, Chronic Obstructive': ['S_Dyspnea'], 'D_Purpura': ['S_Purpura'], 'D_Purpura, Schoenlein-Henoch': ['S_Purpura, Schoenlein-Henoch'], 'D_Purpura, Thrombocytopenic': ['S_Purpura, Thrombocytopenic'], 'D_Purpura, Thrombocytopenic, Idiopathic': ['S_Purpura, Thrombocytopenic, Idiopathic'], 'D_Purpura, Thrombotic Thrombocytopenic': ['S_Purpura, Thrombotic Thrombocytopenic'], 'D_Quadriplegia': ['S_Quadriplegia'], 'D_Reflex, Abnormal': ['S_Reflex, Abnormal'], 'D_Respiratory Insufficiency': ['S_Anoxia'], 'D_Respiratory Paralysis': ['S_Respiratory Paralysis'], 'D_Rotavirus Infections': ['S_Diarrhea'], 'D_Schizophrenia': ['S_Memory Disorders', 'S_Hallucinations'], 'D_Sciatica': ['S_Sciatica'], 'D_Scotoma': ['S_Scotoma'], 'D_Seizures': ['S_Seizures'], 'D_Sensation Disorders': ['S_Sensation Disorders'], 'D_Shoulder Pain': ['S_Shoulder Pain'], 'D_Sleep Apnea Syndromes': ['S_Snoring'], 'D_Sleep Apnea, Obstructive': ['S_Snoring'], 'D_Sleep Deprivation': ['S_Sleep Deprivation'], 'D_Sleep Disorders': ['S_Sleep Disorders'], 'D_Somatoform Disorders': ['S_Psychophysiologic Disorders'], 'D_Spasm': ['S_Spasm'], 'D_Speech Disorders': ['S_Speech Disorders'], 'D_Spinal Cord Injuries': ['S_Paraplegia', 'S_Quadriplegia', 'S_Urinary Bladder, Neurogenic'], 'D_Spinal Diseases': ['S_Back Pain'], 'D_Strabismus': ['S_Amblyopia'], 'D_Stroke': ['S_Muscle Weakness', 'S_Paresis'], 'D_Stuttering': ['S_Stuttering'], 'D_Supranuclear Palsy, Progressive': ['S_Supranuclear Palsy, Progressive'], 'D_Syncope': ['S_Syncope'], 'D_Syncope, Vasovagal': ['S_Syncope, Vasovagal'], 'D_Taste Disorders': ['S_Taste Disorders'], 'D_Temporomandibular Joint Disorders': ['S_Facial Pain'], 'D_Tetany': ['S_Tetany'], 'D_Tinea Pedis': ['S_Tinea Pedis'], 'D_Tinnitus': ['S_Tinnitus'], 'D_Toothache': ['S_Toothache'], 'D_Torticollis': ['S_Torticollis'], 'D_Tremor': ['S_Tremor'], 'D_Unconsciousness': ['S_Unconsciousness'], 'D_Urinary Bladder, Neurogenic': ['S_Urinary Bladder, Neurogenic'], 'D_Urinary Bladder, Overactive': ['S_Urinary Bladder, Overactive'], 'D_Urinary Incontinence': ['S_Urinary Incontinence', 'S_Urinary Incontinence, Stress'], 'D_Urinary Incontinence, Stress': ['S_Urinary Incontinence, Stress'], 'D_Vertigo': ['S_Dizziness', 'S_Vertigo'], 'D_Vision Disorders': ['S_Vision Disorders'], 'D_Vision, Low': ['S_Vision, Low'], 'D_Vocal Cord Paralysis': ['S_Vocal Cord Paralysis'], 'D_Voice Disorders': ['S_Voice Disorders']}\n",
            "D_Obesity\n",
            "['S_Body Weight', 'S_Weight Gain', 'S_Weight Loss', 'S_Overweight', 'S_Obesity', 'S_Thinness']\n"
          ]
        }
      ]
    },
    {
      "cell_type": "code",
      "source": [
        "# IMPORTNAT: also some testing mechanisms--can ignore!\n",
        "inference = VariableElimination(model)\n",
        "\n",
        "# 1 means has symptom\n",
        "# 0 means does not have symptom\n",
        "evidence = {'S_Weight Gain': 1,'S_Overweight': 1, 'S_Obesity': 1}  # Symptoms observed as present\n",
        "query_result = inference.query(variables=['D_Obesity'], evidence=evidence)\n",
        "print(query_result)"
      ],
      "metadata": {
        "colab": {
          "base_uri": "https://localhost:8080/"
        },
        "id": "orRxa06wn6At",
        "outputId": "9a86a54a-1127-4c37-a9ed-aea59d8cc0f6"
      },
      "id": "orRxa06wn6At",
      "execution_count": null,
      "outputs": [
        {
          "output_type": "stream",
          "name": "stdout",
          "text": [
            "+--------------+------------------+\n",
            "| D_Obesity    |   phi(D_Obesity) |\n",
            "+==============+==================+\n",
            "| D_Obesity(0) |           0.9998 |\n",
            "+--------------+------------------+\n",
            "| D_Obesity(1) |           0.0002 |\n",
            "+--------------+------------------+\n"
          ]
        }
      ]
    },
    {
      "cell_type": "markdown",
      "source": [
        "### Step 6:\n",
        "Create a minimal interface in which your bot asks a users for a list of observed symptoms and then returns the name of the disease that is the most likely match to the symptoms. (Hint: Review the input/output commands that you have used in last week's homework.)"
      ],
      "metadata": {
        "id": "JFyEtDqzYSA8"
      },
      "id": "JFyEtDqzYSA8"
    },
    {
      "cell_type": "code",
      "source": [
        "# Time to Perform Inferences as a test!\n",
        "\n",
        "inference = VariableElimination(model)\n",
        "print(\"symptoms start with an S_ before the symptom. Ex: S_Body Weight\")\n",
        "symptom_input = input(\"enter symptoms, separated by commas: \")\n",
        "symptom_list = [symptom.strip() for symptom in symptom_input.split(',')] # put user input into list\n",
        "# symptom_list = ['S_Body Weight'] # sample input for symptom_list can be S_Body Weight\n",
        "\n",
        "\n",
        "def checkSymptoms():\n",
        "  # check if symptoms not in list\n",
        "  model_variables = model.nodes()\n",
        "  missing_symptoms = [symptom for symptom in symptom_list if symptom not in model_variables] # is symptoms are not in list\n",
        "  if missing_symptoms:\n",
        "    print('\\nSome of your symptoms were not in the database. Check your spelling.')\n",
        "    print('The following were not present:')\n",
        "    for symptom in missing_symptoms:\n",
        "      print(symptom)\n",
        "    return False\n",
        "  return True\n",
        "passed = checkSymptoms()\n",
        "\n",
        "def findMostLikely():\n",
        "  highest_prob = 0\n",
        "  most_likley_disease = None\n",
        "  diseases = diseases_df['Disease'].tolist()\n",
        "  # diseases = 'D_Hypertension' exaample\n",
        "  for disease in diseases:\n",
        "    result = inference.query(variables= symptom_list, evidence={disease: 1})\n",
        "     # Access the last column and last row of the result table\n",
        "    last_col_index = -1  # Assuming you want the last column\n",
        "    last_row_index = -1  # Assuming you want the last row\n",
        "    last_col = result.values[..., last_col_index]\n",
        "    last_row = result.values[last_row_index, ...]\n",
        "    # Get the highest probability from the last column and last row\n",
        "    max_prob_last_col = last_col.max()\n",
        "    max_prob_last_row = last_row.max()\n",
        "    max_prob = max(max_prob_last_col, max_prob_last_row)\n",
        "    if max_prob > highest_prob:\n",
        "      highest_prob = max_prob\n",
        "      most_likely_disease = disease\n",
        "  return most_likely_disease, highest_prob\n",
        "if (passed):\n",
        "  disease, probability  = findMostLikely()\n",
        "  print(\"The disease you most likley have is:\",  disease, \"with probability of: \", probability)\n",
        "\n",
        "\n",
        "\n",
        "#for disease in diseases: # Loop through all diseases\n",
        "#  result = inference.query(variables= symptom_list, evidence={disease_name: 1})\n",
        "# Query the probability of a symptom given a disease\n",
        "\n",
        "# phi value is probability:\n",
        "# 0 means not having it, 1 means having it\n",
        "# probabiltiy of 1 and 1\n",
        "# find disease that matches symptoms\n",
        "#result = inference.query(variables= symptom_list, evidence={disease_name: 1})\n",
        "#print(result)"
      ],
      "metadata": {
        "id": "6Dx0U1a4QvRu",
        "colab": {
          "base_uri": "https://localhost:8080/"
        },
        "outputId": "9476a044-dcdf-4eb9-b410-02c53c0a4aec"
      },
      "id": "6Dx0U1a4QvRu",
      "execution_count": 10,
      "outputs": [
        {
          "output_type": "stream",
          "name": "stdout",
          "text": [
            "symptoms start with an S_ before the symptom. Ex: S_Body Weight\n",
            "enter symptoms, separated by commas: S_Body Weight\n",
            "The disease you most likley have is: D_Growth Disorders with probability of:  1.4599936348785912e-10\n"
          ]
        }
      ]
    }
  ],
  "metadata": {
    "kernelspec": {
      "display_name": "Python 3",
      "name": "python3"
    },
    "language_info": {
      "codemirror_mode": {
        "name": "ipython",
        "version": 3
      },
      "file_extension": ".py",
      "mimetype": "text/x-python",
      "name": "python",
      "nbconvert_exporter": "python",
      "pygments_lexer": "ipython3",
      "version": "3.11.9"
    },
    "colab": {
      "provenance": [],
      "machine_shape": "hm"
    }
  },
  "nbformat": 4,
  "nbformat_minor": 5
}